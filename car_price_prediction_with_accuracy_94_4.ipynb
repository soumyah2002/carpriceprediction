{
  "metadata": {
    "kernelspec": {
      "language": "python",
      "display_name": "Python 3",
      "name": "python3"
    },
    "language_info": {
      "pygments_lexer": "ipython3",
      "nbconvert_exporter": "python",
      "version": "3.6.4",
      "file_extension": ".py",
      "codemirror_mode": {
        "name": "ipython",
        "version": 3
      },
      "name": "python",
      "mimetype": "text/x-python"
    },
    "colab": {
      "provenance": []
    }
  },
  "nbformat_minor": 0,
  "nbformat": 4,
  "cells": [
    {
      "cell_type": "markdown",
      "source": [
        "# <center>Car Price Prediction </center>"
      ],
      "metadata": {
        "id": "otgTSRTgCweD"
      }
    },
    {
      "cell_type": "markdown",
      "source": [
        "# Outlines \n",
        "> Project target : Predict Used car price based on car specifications \n",
        "1. Data cleaning \n",
        "2. feature engineering \n",
        "3. Getting more insights \n",
        "4. Data Pre-processing\n",
        "5. modeling \n",
        "6. evalution "
      ],
      "metadata": {
        "id": "dpERjlKqCweG"
      }
    },
    {
      "cell_type": "code",
      "source": [
        "from google.colab import drive\n",
        "drive.mount('/content/drive')"
      ],
      "metadata": {
        "colab": {
          "base_uri": "https://localhost:8080/"
        },
        "id": "ztrH-qB_FAhM",
        "outputId": "43a83da5-d5d7-42c7-fa88-11a72eda4935"
      },
      "execution_count": 69,
      "outputs": [
        {
          "output_type": "stream",
          "name": "stdout",
          "text": [
            "Drive already mounted at /content/drive; to attempt to forcibly remount, call drive.mount(\"/content/drive\", force_remount=True).\n"
          ]
        }
      ]
    },
    {
      "cell_type": "code",
      "source": [
        "pip install --upgrade category_encoders"
      ],
      "metadata": {
        "colab": {
          "base_uri": "https://localhost:8080/"
        },
        "id": "x4W_md2eDxr7",
        "outputId": "d7792328-458b-42af-95ca-71d6b40a1893"
      },
      "execution_count": 70,
      "outputs": [
        {
          "output_type": "stream",
          "name": "stdout",
          "text": [
            "Looking in indexes: https://pypi.org/simple, https://us-python.pkg.dev/colab-wheels/public/simple/\n",
            "Requirement already satisfied: category_encoders in /usr/local/lib/python3.7/dist-packages (2.5.1.post0)\n",
            "Requirement already satisfied: patsy>=0.5.1 in /usr/local/lib/python3.7/dist-packages (from category_encoders) (0.5.3)\n",
            "Requirement already satisfied: scipy>=1.0.0 in /usr/local/lib/python3.7/dist-packages (from category_encoders) (1.7.3)\n",
            "Requirement already satisfied: pandas>=1.0.5 in /usr/local/lib/python3.7/dist-packages (from category_encoders) (1.3.5)\n",
            "Requirement already satisfied: scikit-learn>=0.20.0 in /usr/local/lib/python3.7/dist-packages (from category_encoders) (1.0.2)\n",
            "Requirement already satisfied: statsmodels>=0.9.0 in /usr/local/lib/python3.7/dist-packages (from category_encoders) (0.12.2)\n",
            "Requirement already satisfied: numpy>=1.14.0 in /usr/local/lib/python3.7/dist-packages (from category_encoders) (1.21.6)\n",
            "Requirement already satisfied: python-dateutil>=2.7.3 in /usr/local/lib/python3.7/dist-packages (from pandas>=1.0.5->category_encoders) (2.8.2)\n",
            "Requirement already satisfied: pytz>=2017.3 in /usr/local/lib/python3.7/dist-packages (from pandas>=1.0.5->category_encoders) (2022.5)\n",
            "Requirement already satisfied: six in /usr/local/lib/python3.7/dist-packages (from patsy>=0.5.1->category_encoders) (1.15.0)\n",
            "Requirement already satisfied: joblib>=0.11 in /usr/local/lib/python3.7/dist-packages (from scikit-learn>=0.20.0->category_encoders) (1.2.0)\n",
            "Requirement already satisfied: threadpoolctl>=2.0.0 in /usr/local/lib/python3.7/dist-packages (from scikit-learn>=0.20.0->category_encoders) (3.1.0)\n"
          ]
        }
      ]
    },
    {
      "cell_type": "code",
      "source": [
        "# Packages for EDA \n",
        "import pandas as pd \n",
        "import numpy as np \n",
        "import seaborn as sns \n",
        "\n",
        "# Data Preprocessing\n",
        "from sklearn.model_selection import train_test_split\n",
        "import category_encoders as ce\n",
        "from sklearn.metrics import mean_squared_error\n",
        "from sklearn.preprocessing import PowerTransformer\n",
        "\n",
        "# Modeling\n",
        "from sklearn.linear_model import LinearRegression\n",
        "from sklearn.linear_model import LassoCV\n",
        "from sklearn.linear_model import RidgeCV\n",
        "from sklearn.linear_model import ElasticNetCV\n",
        "np.seterr(divide='ignore', invalid='ignore', over='ignore')\n",
        "\n",
        "\n",
        "# Showing Plots inside notebook\n",
        "%matplotlib inline  \n",
        "sns.set(rc={'figure.figsize': [7, 14]}, font_scale=1.2) # Standard figure size for all "
      ],
      "metadata": {
        "execution": {
          "iopub.status.busy": "2022-09-11T11:40:06.844503Z",
          "iopub.execute_input": "2022-09-11T11:40:06.845645Z",
          "iopub.status.idle": "2022-09-11T11:40:07.595187Z",
          "shell.execute_reply.started": "2022-09-11T11:40:06.845569Z",
          "shell.execute_reply": "2022-09-11T11:40:07.593767Z"
        },
        "trusted": true,
        "id": "HdPm4pSCCweG"
      },
      "execution_count": 71,
      "outputs": []
    },
    {
      "cell_type": "code",
      "source": [
        "df = pd.read_csv(\"/content/drive/MyDrive/colab/train-data.csv\")\n",
        "df.sample(5)"
      ],
      "metadata": {
        "execution": {
          "iopub.status.busy": "2022-09-11T11:40:07.602665Z",
          "iopub.execute_input": "2022-09-11T11:40:07.603539Z",
          "iopub.status.idle": "2022-09-11T11:40:07.653865Z",
          "shell.execute_reply.started": "2022-09-11T11:40:07.6035Z",
          "shell.execute_reply": "2022-09-11T11:40:07.652608Z"
        },
        "trusted": true,
        "colab": {
          "base_uri": "https://localhost:8080/",
          "height": 206
        },
        "id": "D6V0_VtECweH",
        "outputId": "531b43bc-0607-4151-ee69-2bfe70d9e65b"
      },
      "execution_count": 72,
      "outputs": [
        {
          "output_type": "execute_result",
          "data": {
            "text/plain": [
              "      Unnamed: 0                           Name    Location  Year  \\\n",
              "3899        3899                Audi A4 2.0 TDI   Bangalore  2013   \n",
              "2904        2904  Mercedes-Benz E-Class 280 CDI     Chennai  2007   \n",
              "1745        1745          Maruti Alto LXi BSIII      Jaipur  2010   \n",
              "5342        5342          Honda Amaze VX i-VTEC  Coimbatore  2019   \n",
              "5811        5811           Skoda Superb 1.8 TSI        Pune  2010   \n",
              "\n",
              "      Kilometers_Driven Fuel_Type Transmission Owner_Type     Mileage  \\\n",
              "3899              76000    Diesel    Automatic     Second  16.55 kmpl   \n",
              "2904              75000    Diesel    Automatic      First   11.0 kmpl   \n",
              "1745              73513    Petrol       Manual      First   19.7 kmpl   \n",
              "5342              16573    Petrol       Manual      First   17.8 kmpl   \n",
              "5811              35102    Petrol    Automatic      First   12.6 kmpl   \n",
              "\n",
              "       Engine       Power  Seats New_Price  Price  \n",
              "3899  1968 CC  147.51 bhp    5.0       NaN  18.25  \n",
              "2904  2987 CC   198.5 bhp    5.0       NaN  11.00  \n",
              "1745   796 CC    46.3 bhp    5.0       NaN   1.85  \n",
              "5342  1198 CC    86.7 bhp    5.0       NaN   9.31  \n",
              "5811  1798 CC   161.6 bhp    5.0       NaN   5.50  "
            ],
            "text/html": [
              "\n",
              "  <div id=\"df-88bcc05f-cf9f-4aa9-b3a5-d277a3e8e715\">\n",
              "    <div class=\"colab-df-container\">\n",
              "      <div>\n",
              "<style scoped>\n",
              "    .dataframe tbody tr th:only-of-type {\n",
              "        vertical-align: middle;\n",
              "    }\n",
              "\n",
              "    .dataframe tbody tr th {\n",
              "        vertical-align: top;\n",
              "    }\n",
              "\n",
              "    .dataframe thead th {\n",
              "        text-align: right;\n",
              "    }\n",
              "</style>\n",
              "<table border=\"1\" class=\"dataframe\">\n",
              "  <thead>\n",
              "    <tr style=\"text-align: right;\">\n",
              "      <th></th>\n",
              "      <th>Unnamed: 0</th>\n",
              "      <th>Name</th>\n",
              "      <th>Location</th>\n",
              "      <th>Year</th>\n",
              "      <th>Kilometers_Driven</th>\n",
              "      <th>Fuel_Type</th>\n",
              "      <th>Transmission</th>\n",
              "      <th>Owner_Type</th>\n",
              "      <th>Mileage</th>\n",
              "      <th>Engine</th>\n",
              "      <th>Power</th>\n",
              "      <th>Seats</th>\n",
              "      <th>New_Price</th>\n",
              "      <th>Price</th>\n",
              "    </tr>\n",
              "  </thead>\n",
              "  <tbody>\n",
              "    <tr>\n",
              "      <th>3899</th>\n",
              "      <td>3899</td>\n",
              "      <td>Audi A4 2.0 TDI</td>\n",
              "      <td>Bangalore</td>\n",
              "      <td>2013</td>\n",
              "      <td>76000</td>\n",
              "      <td>Diesel</td>\n",
              "      <td>Automatic</td>\n",
              "      <td>Second</td>\n",
              "      <td>16.55 kmpl</td>\n",
              "      <td>1968 CC</td>\n",
              "      <td>147.51 bhp</td>\n",
              "      <td>5.0</td>\n",
              "      <td>NaN</td>\n",
              "      <td>18.25</td>\n",
              "    </tr>\n",
              "    <tr>\n",
              "      <th>2904</th>\n",
              "      <td>2904</td>\n",
              "      <td>Mercedes-Benz E-Class 280 CDI</td>\n",
              "      <td>Chennai</td>\n",
              "      <td>2007</td>\n",
              "      <td>75000</td>\n",
              "      <td>Diesel</td>\n",
              "      <td>Automatic</td>\n",
              "      <td>First</td>\n",
              "      <td>11.0 kmpl</td>\n",
              "      <td>2987 CC</td>\n",
              "      <td>198.5 bhp</td>\n",
              "      <td>5.0</td>\n",
              "      <td>NaN</td>\n",
              "      <td>11.00</td>\n",
              "    </tr>\n",
              "    <tr>\n",
              "      <th>1745</th>\n",
              "      <td>1745</td>\n",
              "      <td>Maruti Alto LXi BSIII</td>\n",
              "      <td>Jaipur</td>\n",
              "      <td>2010</td>\n",
              "      <td>73513</td>\n",
              "      <td>Petrol</td>\n",
              "      <td>Manual</td>\n",
              "      <td>First</td>\n",
              "      <td>19.7 kmpl</td>\n",
              "      <td>796 CC</td>\n",
              "      <td>46.3 bhp</td>\n",
              "      <td>5.0</td>\n",
              "      <td>NaN</td>\n",
              "      <td>1.85</td>\n",
              "    </tr>\n",
              "    <tr>\n",
              "      <th>5342</th>\n",
              "      <td>5342</td>\n",
              "      <td>Honda Amaze VX i-VTEC</td>\n",
              "      <td>Coimbatore</td>\n",
              "      <td>2019</td>\n",
              "      <td>16573</td>\n",
              "      <td>Petrol</td>\n",
              "      <td>Manual</td>\n",
              "      <td>First</td>\n",
              "      <td>17.8 kmpl</td>\n",
              "      <td>1198 CC</td>\n",
              "      <td>86.7 bhp</td>\n",
              "      <td>5.0</td>\n",
              "      <td>NaN</td>\n",
              "      <td>9.31</td>\n",
              "    </tr>\n",
              "    <tr>\n",
              "      <th>5811</th>\n",
              "      <td>5811</td>\n",
              "      <td>Skoda Superb 1.8 TSI</td>\n",
              "      <td>Pune</td>\n",
              "      <td>2010</td>\n",
              "      <td>35102</td>\n",
              "      <td>Petrol</td>\n",
              "      <td>Automatic</td>\n",
              "      <td>First</td>\n",
              "      <td>12.6 kmpl</td>\n",
              "      <td>1798 CC</td>\n",
              "      <td>161.6 bhp</td>\n",
              "      <td>5.0</td>\n",
              "      <td>NaN</td>\n",
              "      <td>5.50</td>\n",
              "    </tr>\n",
              "  </tbody>\n",
              "</table>\n",
              "</div>\n",
              "      <button class=\"colab-df-convert\" onclick=\"convertToInteractive('df-88bcc05f-cf9f-4aa9-b3a5-d277a3e8e715')\"\n",
              "              title=\"Convert this dataframe to an interactive table.\"\n",
              "              style=\"display:none;\">\n",
              "        \n",
              "  <svg xmlns=\"http://www.w3.org/2000/svg\" height=\"24px\"viewBox=\"0 0 24 24\"\n",
              "       width=\"24px\">\n",
              "    <path d=\"M0 0h24v24H0V0z\" fill=\"none\"/>\n",
              "    <path d=\"M18.56 5.44l.94 2.06.94-2.06 2.06-.94-2.06-.94-.94-2.06-.94 2.06-2.06.94zm-11 1L8.5 8.5l.94-2.06 2.06-.94-2.06-.94L8.5 2.5l-.94 2.06-2.06.94zm10 10l.94 2.06.94-2.06 2.06-.94-2.06-.94-.94-2.06-.94 2.06-2.06.94z\"/><path d=\"M17.41 7.96l-1.37-1.37c-.4-.4-.92-.59-1.43-.59-.52 0-1.04.2-1.43.59L10.3 9.45l-7.72 7.72c-.78.78-.78 2.05 0 2.83L4 21.41c.39.39.9.59 1.41.59.51 0 1.02-.2 1.41-.59l7.78-7.78 2.81-2.81c.8-.78.8-2.07 0-2.86zM5.41 20L4 18.59l7.72-7.72 1.47 1.35L5.41 20z\"/>\n",
              "  </svg>\n",
              "      </button>\n",
              "      \n",
              "  <style>\n",
              "    .colab-df-container {\n",
              "      display:flex;\n",
              "      flex-wrap:wrap;\n",
              "      gap: 12px;\n",
              "    }\n",
              "\n",
              "    .colab-df-convert {\n",
              "      background-color: #E8F0FE;\n",
              "      border: none;\n",
              "      border-radius: 50%;\n",
              "      cursor: pointer;\n",
              "      display: none;\n",
              "      fill: #1967D2;\n",
              "      height: 32px;\n",
              "      padding: 0 0 0 0;\n",
              "      width: 32px;\n",
              "    }\n",
              "\n",
              "    .colab-df-convert:hover {\n",
              "      background-color: #E2EBFA;\n",
              "      box-shadow: 0px 1px 2px rgba(60, 64, 67, 0.3), 0px 1px 3px 1px rgba(60, 64, 67, 0.15);\n",
              "      fill: #174EA6;\n",
              "    }\n",
              "\n",
              "    [theme=dark] .colab-df-convert {\n",
              "      background-color: #3B4455;\n",
              "      fill: #D2E3FC;\n",
              "    }\n",
              "\n",
              "    [theme=dark] .colab-df-convert:hover {\n",
              "      background-color: #434B5C;\n",
              "      box-shadow: 0px 1px 3px 1px rgba(0, 0, 0, 0.15);\n",
              "      filter: drop-shadow(0px 1px 2px rgba(0, 0, 0, 0.3));\n",
              "      fill: #FFFFFF;\n",
              "    }\n",
              "  </style>\n",
              "\n",
              "      <script>\n",
              "        const buttonEl =\n",
              "          document.querySelector('#df-88bcc05f-cf9f-4aa9-b3a5-d277a3e8e715 button.colab-df-convert');\n",
              "        buttonEl.style.display =\n",
              "          google.colab.kernel.accessAllowed ? 'block' : 'none';\n",
              "\n",
              "        async function convertToInteractive(key) {\n",
              "          const element = document.querySelector('#df-88bcc05f-cf9f-4aa9-b3a5-d277a3e8e715');\n",
              "          const dataTable =\n",
              "            await google.colab.kernel.invokeFunction('convertToInteractive',\n",
              "                                                     [key], {});\n",
              "          if (!dataTable) return;\n",
              "\n",
              "          const docLinkHtml = 'Like what you see? Visit the ' +\n",
              "            '<a target=\"_blank\" href=https://colab.research.google.com/notebooks/data_table.ipynb>data table notebook</a>'\n",
              "            + ' to learn more about interactive tables.';\n",
              "          element.innerHTML = '';\n",
              "          dataTable['output_type'] = 'display_data';\n",
              "          await google.colab.output.renderOutput(dataTable, element);\n",
              "          const docLink = document.createElement('div');\n",
              "          docLink.innerHTML = docLinkHtml;\n",
              "          element.appendChild(docLink);\n",
              "        }\n",
              "      </script>\n",
              "    </div>\n",
              "  </div>\n",
              "  "
            ]
          },
          "metadata": {},
          "execution_count": 72
        }
      ]
    },
    {
      "cell_type": "markdown",
      "source": [
        "# 1. Data cleaning \n"
      ],
      "metadata": {
        "id": "mmgUyqPSCweI"
      }
    },
    {
      "cell_type": "markdown",
      "source": [
        "### 1.1 Investegation "
      ],
      "metadata": {
        "id": "U7_Dq-DECweI"
      }
    },
    {
      "cell_type": "code",
      "source": [
        "df.info()"
      ],
      "metadata": {
        "scrolled": true,
        "execution": {
          "iopub.status.busy": "2022-09-11T11:40:07.655582Z",
          "iopub.execute_input": "2022-09-11T11:40:07.655982Z",
          "iopub.status.idle": "2022-09-11T11:40:07.677178Z",
          "shell.execute_reply.started": "2022-09-11T11:40:07.655947Z",
          "shell.execute_reply": "2022-09-11T11:40:07.675674Z"
        },
        "trusted": true,
        "colab": {
          "base_uri": "https://localhost:8080/"
        },
        "id": "8IvJ3ek5CweI",
        "outputId": "78219dc5-eb2c-4777-d716-07df4920aac2"
      },
      "execution_count": 73,
      "outputs": [
        {
          "output_type": "stream",
          "name": "stdout",
          "text": [
            "<class 'pandas.core.frame.DataFrame'>\n",
            "RangeIndex: 6019 entries, 0 to 6018\n",
            "Data columns (total 14 columns):\n",
            " #   Column             Non-Null Count  Dtype  \n",
            "---  ------             --------------  -----  \n",
            " 0   Unnamed: 0         6019 non-null   int64  \n",
            " 1   Name               6019 non-null   object \n",
            " 2   Location           6019 non-null   object \n",
            " 3   Year               6019 non-null   int64  \n",
            " 4   Kilometers_Driven  6019 non-null   int64  \n",
            " 5   Fuel_Type          6019 non-null   object \n",
            " 6   Transmission       6019 non-null   object \n",
            " 7   Owner_Type         6019 non-null   object \n",
            " 8   Mileage            6017 non-null   object \n",
            " 9   Engine             5983 non-null   object \n",
            " 10  Power              5983 non-null   object \n",
            " 11  Seats              5977 non-null   float64\n",
            " 12  New_Price          824 non-null    object \n",
            " 13  Price              6019 non-null   float64\n",
            "dtypes: float64(2), int64(3), object(9)\n",
            "memory usage: 658.5+ KB\n"
          ]
        }
      ]
    },
    {
      "cell_type": "code",
      "source": [
        "df.describe()"
      ],
      "metadata": {
        "execution": {
          "iopub.status.busy": "2022-09-11T11:40:07.680233Z",
          "iopub.execute_input": "2022-09-11T11:40:07.680913Z",
          "iopub.status.idle": "2022-09-11T11:40:07.713704Z",
          "shell.execute_reply.started": "2022-09-11T11:40:07.680876Z",
          "shell.execute_reply": "2022-09-11T11:40:07.712398Z"
        },
        "trusted": true,
        "colab": {
          "base_uri": "https://localhost:8080/",
          "height": 300
        },
        "id": "IbiOL1bACweI",
        "outputId": "4754c10a-223e-45cc-9abc-4752fd5b06ec"
      },
      "execution_count": 74,
      "outputs": [
        {
          "output_type": "execute_result",
          "data": {
            "text/plain": [
              "        Unnamed: 0         Year  Kilometers_Driven        Seats        Price\n",
              "count  6019.000000  6019.000000       6.019000e+03  5977.000000  6019.000000\n",
              "mean   3009.000000  2013.358199       5.873838e+04     5.278735     9.479468\n",
              "std    1737.679967     3.269742       9.126884e+04     0.808840    11.187917\n",
              "min       0.000000  1998.000000       1.710000e+02     0.000000     0.440000\n",
              "25%    1504.500000  2011.000000       3.400000e+04     5.000000     3.500000\n",
              "50%    3009.000000  2014.000000       5.300000e+04     5.000000     5.640000\n",
              "75%    4513.500000  2016.000000       7.300000e+04     5.000000     9.950000\n",
              "max    6018.000000  2019.000000       6.500000e+06    10.000000   160.000000"
            ],
            "text/html": [
              "\n",
              "  <div id=\"df-c6b2f561-8187-4b06-a868-e7e673564b7f\">\n",
              "    <div class=\"colab-df-container\">\n",
              "      <div>\n",
              "<style scoped>\n",
              "    .dataframe tbody tr th:only-of-type {\n",
              "        vertical-align: middle;\n",
              "    }\n",
              "\n",
              "    .dataframe tbody tr th {\n",
              "        vertical-align: top;\n",
              "    }\n",
              "\n",
              "    .dataframe thead th {\n",
              "        text-align: right;\n",
              "    }\n",
              "</style>\n",
              "<table border=\"1\" class=\"dataframe\">\n",
              "  <thead>\n",
              "    <tr style=\"text-align: right;\">\n",
              "      <th></th>\n",
              "      <th>Unnamed: 0</th>\n",
              "      <th>Year</th>\n",
              "      <th>Kilometers_Driven</th>\n",
              "      <th>Seats</th>\n",
              "      <th>Price</th>\n",
              "    </tr>\n",
              "  </thead>\n",
              "  <tbody>\n",
              "    <tr>\n",
              "      <th>count</th>\n",
              "      <td>6019.000000</td>\n",
              "      <td>6019.000000</td>\n",
              "      <td>6.019000e+03</td>\n",
              "      <td>5977.000000</td>\n",
              "      <td>6019.000000</td>\n",
              "    </tr>\n",
              "    <tr>\n",
              "      <th>mean</th>\n",
              "      <td>3009.000000</td>\n",
              "      <td>2013.358199</td>\n",
              "      <td>5.873838e+04</td>\n",
              "      <td>5.278735</td>\n",
              "      <td>9.479468</td>\n",
              "    </tr>\n",
              "    <tr>\n",
              "      <th>std</th>\n",
              "      <td>1737.679967</td>\n",
              "      <td>3.269742</td>\n",
              "      <td>9.126884e+04</td>\n",
              "      <td>0.808840</td>\n",
              "      <td>11.187917</td>\n",
              "    </tr>\n",
              "    <tr>\n",
              "      <th>min</th>\n",
              "      <td>0.000000</td>\n",
              "      <td>1998.000000</td>\n",
              "      <td>1.710000e+02</td>\n",
              "      <td>0.000000</td>\n",
              "      <td>0.440000</td>\n",
              "    </tr>\n",
              "    <tr>\n",
              "      <th>25%</th>\n",
              "      <td>1504.500000</td>\n",
              "      <td>2011.000000</td>\n",
              "      <td>3.400000e+04</td>\n",
              "      <td>5.000000</td>\n",
              "      <td>3.500000</td>\n",
              "    </tr>\n",
              "    <tr>\n",
              "      <th>50%</th>\n",
              "      <td>3009.000000</td>\n",
              "      <td>2014.000000</td>\n",
              "      <td>5.300000e+04</td>\n",
              "      <td>5.000000</td>\n",
              "      <td>5.640000</td>\n",
              "    </tr>\n",
              "    <tr>\n",
              "      <th>75%</th>\n",
              "      <td>4513.500000</td>\n",
              "      <td>2016.000000</td>\n",
              "      <td>7.300000e+04</td>\n",
              "      <td>5.000000</td>\n",
              "      <td>9.950000</td>\n",
              "    </tr>\n",
              "    <tr>\n",
              "      <th>max</th>\n",
              "      <td>6018.000000</td>\n",
              "      <td>2019.000000</td>\n",
              "      <td>6.500000e+06</td>\n",
              "      <td>10.000000</td>\n",
              "      <td>160.000000</td>\n",
              "    </tr>\n",
              "  </tbody>\n",
              "</table>\n",
              "</div>\n",
              "      <button class=\"colab-df-convert\" onclick=\"convertToInteractive('df-c6b2f561-8187-4b06-a868-e7e673564b7f')\"\n",
              "              title=\"Convert this dataframe to an interactive table.\"\n",
              "              style=\"display:none;\">\n",
              "        \n",
              "  <svg xmlns=\"http://www.w3.org/2000/svg\" height=\"24px\"viewBox=\"0 0 24 24\"\n",
              "       width=\"24px\">\n",
              "    <path d=\"M0 0h24v24H0V0z\" fill=\"none\"/>\n",
              "    <path d=\"M18.56 5.44l.94 2.06.94-2.06 2.06-.94-2.06-.94-.94-2.06-.94 2.06-2.06.94zm-11 1L8.5 8.5l.94-2.06 2.06-.94-2.06-.94L8.5 2.5l-.94 2.06-2.06.94zm10 10l.94 2.06.94-2.06 2.06-.94-2.06-.94-.94-2.06-.94 2.06-2.06.94z\"/><path d=\"M17.41 7.96l-1.37-1.37c-.4-.4-.92-.59-1.43-.59-.52 0-1.04.2-1.43.59L10.3 9.45l-7.72 7.72c-.78.78-.78 2.05 0 2.83L4 21.41c.39.39.9.59 1.41.59.51 0 1.02-.2 1.41-.59l7.78-7.78 2.81-2.81c.8-.78.8-2.07 0-2.86zM5.41 20L4 18.59l7.72-7.72 1.47 1.35L5.41 20z\"/>\n",
              "  </svg>\n",
              "      </button>\n",
              "      \n",
              "  <style>\n",
              "    .colab-df-container {\n",
              "      display:flex;\n",
              "      flex-wrap:wrap;\n",
              "      gap: 12px;\n",
              "    }\n",
              "\n",
              "    .colab-df-convert {\n",
              "      background-color: #E8F0FE;\n",
              "      border: none;\n",
              "      border-radius: 50%;\n",
              "      cursor: pointer;\n",
              "      display: none;\n",
              "      fill: #1967D2;\n",
              "      height: 32px;\n",
              "      padding: 0 0 0 0;\n",
              "      width: 32px;\n",
              "    }\n",
              "\n",
              "    .colab-df-convert:hover {\n",
              "      background-color: #E2EBFA;\n",
              "      box-shadow: 0px 1px 2px rgba(60, 64, 67, 0.3), 0px 1px 3px 1px rgba(60, 64, 67, 0.15);\n",
              "      fill: #174EA6;\n",
              "    }\n",
              "\n",
              "    [theme=dark] .colab-df-convert {\n",
              "      background-color: #3B4455;\n",
              "      fill: #D2E3FC;\n",
              "    }\n",
              "\n",
              "    [theme=dark] .colab-df-convert:hover {\n",
              "      background-color: #434B5C;\n",
              "      box-shadow: 0px 1px 3px 1px rgba(0, 0, 0, 0.15);\n",
              "      filter: drop-shadow(0px 1px 2px rgba(0, 0, 0, 0.3));\n",
              "      fill: #FFFFFF;\n",
              "    }\n",
              "  </style>\n",
              "\n",
              "      <script>\n",
              "        const buttonEl =\n",
              "          document.querySelector('#df-c6b2f561-8187-4b06-a868-e7e673564b7f button.colab-df-convert');\n",
              "        buttonEl.style.display =\n",
              "          google.colab.kernel.accessAllowed ? 'block' : 'none';\n",
              "\n",
              "        async function convertToInteractive(key) {\n",
              "          const element = document.querySelector('#df-c6b2f561-8187-4b06-a868-e7e673564b7f');\n",
              "          const dataTable =\n",
              "            await google.colab.kernel.invokeFunction('convertToInteractive',\n",
              "                                                     [key], {});\n",
              "          if (!dataTable) return;\n",
              "\n",
              "          const docLinkHtml = 'Like what you see? Visit the ' +\n",
              "            '<a target=\"_blank\" href=https://colab.research.google.com/notebooks/data_table.ipynb>data table notebook</a>'\n",
              "            + ' to learn more about interactive tables.';\n",
              "          element.innerHTML = '';\n",
              "          dataTable['output_type'] = 'display_data';\n",
              "          await google.colab.output.renderOutput(dataTable, element);\n",
              "          const docLink = document.createElement('div');\n",
              "          docLink.innerHTML = docLinkHtml;\n",
              "          element.appendChild(docLink);\n",
              "        }\n",
              "      </script>\n",
              "    </div>\n",
              "  </div>\n",
              "  "
            ]
          },
          "metadata": {},
          "execution_count": 74
        }
      ]
    },
    {
      "cell_type": "code",
      "source": [
        "df.duplicated().sum()"
      ],
      "metadata": {
        "execution": {
          "iopub.status.busy": "2022-09-11T11:40:07.71557Z",
          "iopub.execute_input": "2022-09-11T11:40:07.716361Z",
          "iopub.status.idle": "2022-09-11T11:40:07.733844Z",
          "shell.execute_reply.started": "2022-09-11T11:40:07.716308Z",
          "shell.execute_reply": "2022-09-11T11:40:07.732729Z"
        },
        "trusted": true,
        "colab": {
          "base_uri": "https://localhost:8080/"
        },
        "id": "j_Uzz6P5CweJ",
        "outputId": "6405df52-786c-4d79-e8b7-45cc7c8d1861"
      },
      "execution_count": 75,
      "outputs": [
        {
          "output_type": "execute_result",
          "data": {
            "text/plain": [
              "0"
            ]
          },
          "metadata": {},
          "execution_count": 75
        }
      ]
    },
    {
      "cell_type": "markdown",
      "source": [
        "#### Notes \n",
        "- Numerical values mixed with text in (Mileage, Engine, Power) columns. \n",
        "    - in Milage column we have 2 units (kmpl & km/kg)\n",
        "- Most of New_Price Column is null values (so, we have 2 solution.) \n",
        "    - remove it or scrap some data to fill it. \n",
        "- Null values values in other columns \n",
        "- Seats columns have some values with Zero !! \n",
        "- duplicated rows founded \n",
        "- Power column have values \"null bhp\" "
      ],
      "metadata": {
        "id": "Xjr0osqzCweJ"
      }
    },
    {
      "cell_type": "markdown",
      "source": [
        "###  1.2 Working with data issues "
      ],
      "metadata": {
        "id": "7shSc9SsCweJ"
      }
    },
    {
      "cell_type": "markdown",
      "source": [
        "> Dropping duplicated columns "
      ],
      "metadata": {
        "id": "GRt5IeYYCweJ"
      }
    },
    {
      "cell_type": "code",
      "source": [
        "# Remove duplicated row \n",
        "df.drop_duplicates(inplace=True)"
      ],
      "metadata": {
        "execution": {
          "iopub.status.busy": "2022-09-11T11:40:07.735487Z",
          "iopub.execute_input": "2022-09-11T11:40:07.736103Z",
          "iopub.status.idle": "2022-09-11T11:40:07.752844Z",
          "shell.execute_reply.started": "2022-09-11T11:40:07.736064Z",
          "shell.execute_reply": "2022-09-11T11:40:07.751862Z"
        },
        "trusted": true,
        "id": "tuMU908wCweK"
      },
      "execution_count": 76,
      "outputs": []
    },
    {
      "cell_type": "markdown",
      "source": [
        "> Drop \"New_Price\" column because most of them is null \n",
        "- Another solution is to Scrap New price "
      ],
      "metadata": {
        "id": "8BhGHmBlCweK"
      }
    },
    {
      "cell_type": "code",
      "source": [
        "df.drop(\"New_Price\", axis=1, inplace=True)"
      ],
      "metadata": {
        "execution": {
          "iopub.status.busy": "2022-09-11T11:40:07.754357Z",
          "iopub.execute_input": "2022-09-11T11:40:07.754901Z",
          "iopub.status.idle": "2022-09-11T11:40:07.762222Z",
          "shell.execute_reply.started": "2022-09-11T11:40:07.754868Z",
          "shell.execute_reply": "2022-09-11T11:40:07.761265Z"
        },
        "trusted": true,
        "id": "EI5VNZnNCweK"
      },
      "execution_count": 77,
      "outputs": []
    },
    {
      "cell_type": "markdown",
      "source": [
        "> Imputing Null values "
      ],
      "metadata": {
        "id": "gkpIgqN7CweK"
      }
    },
    {
      "cell_type": "code",
      "source": [
        "# My solution \n",
        "from sklearn.impute import SimpleImputer\n",
        "\n",
        "null_col = ['Mileage', 'Engine' , 'Power','Seats']\n",
        "\n",
        "imputer = SimpleImputer(strategy='most_frequent')\n",
        "df[null_col] = imputer.fit_transform(df[null_col])"
      ],
      "metadata": {
        "execution": {
          "iopub.status.busy": "2022-09-11T11:40:07.763979Z",
          "iopub.execute_input": "2022-09-11T11:40:07.764684Z",
          "iopub.status.idle": "2022-09-11T11:40:07.80285Z",
          "shell.execute_reply.started": "2022-09-11T11:40:07.764648Z",
          "shell.execute_reply": "2022-09-11T11:40:07.801362Z"
        },
        "trusted": true,
        "id": "WLDTf5IICweL"
      },
      "execution_count": 78,
      "outputs": []
    },
    {
      "cell_type": "markdown",
      "source": [
        "> Make sure that all data type is correct "
      ],
      "metadata": {
        "id": "fVOYCgJNCweL"
      }
    },
    {
      "cell_type": "code",
      "source": [
        "df = df.convert_dtypes()"
      ],
      "metadata": {
        "execution": {
          "iopub.status.busy": "2022-09-11T11:40:07.804483Z",
          "iopub.execute_input": "2022-09-11T11:40:07.804835Z",
          "iopub.status.idle": "2022-09-11T11:40:07.825797Z",
          "shell.execute_reply.started": "2022-09-11T11:40:07.804803Z",
          "shell.execute_reply": "2022-09-11T11:40:07.824872Z"
        },
        "trusted": true,
        "id": "XaXnygdrCweL"
      },
      "execution_count": 79,
      "outputs": []
    },
    {
      "cell_type": "markdown",
      "source": [
        "> Impute zeros in seats column "
      ],
      "metadata": {
        "id": "9f6myxF7CweL"
      }
    },
    {
      "cell_type": "code",
      "source": [
        "df['Seats'].replace(to_replace=0 ,value= df['Seats'].mode()[0],inplace=True)"
      ],
      "metadata": {
        "execution": {
          "iopub.status.busy": "2022-09-11T11:40:07.826895Z",
          "iopub.execute_input": "2022-09-11T11:40:07.828088Z",
          "iopub.status.idle": "2022-09-11T11:40:07.836945Z",
          "shell.execute_reply.started": "2022-09-11T11:40:07.828049Z",
          "shell.execute_reply": "2022-09-11T11:40:07.835452Z"
        },
        "trusted": true,
        "id": "die1Y3alCweM"
      },
      "execution_count": 80,
      "outputs": []
    },
    {
      "cell_type": "code",
      "source": [
        "df[df['Power'] == 'null bhp']"
      ],
      "metadata": {
        "execution": {
          "iopub.status.busy": "2022-09-11T11:40:07.839052Z",
          "iopub.execute_input": "2022-09-11T11:40:07.84042Z",
          "iopub.status.idle": "2022-09-11T11:40:07.878117Z",
          "shell.execute_reply.started": "2022-09-11T11:40:07.840381Z",
          "shell.execute_reply": "2022-09-11T11:40:07.876546Z"
        },
        "trusted": true,
        "colab": {
          "base_uri": "https://localhost:8080/",
          "height": 424
        },
        "id": "7TudGkWUCweM",
        "outputId": "d77603d9-5993-4cae-fb7a-ae26e77d67b1"
      },
      "execution_count": 81,
      "outputs": [
        {
          "output_type": "execute_result",
          "data": {
            "text/plain": [
              "      Unnamed: 0                                  Name   Location  Year  \\\n",
              "76            76              Ford Fiesta 1.4 SXi TDCi     Jaipur  2008   \n",
              "79            79                Hyundai Santro Xing XL  Hyderabad  2005   \n",
              "89            89                Hyundai Santro Xing XO  Hyderabad  2007   \n",
              "120          120  Hyundai Santro Xing XL eRLX Euro III     Mumbai  2005   \n",
              "143          143   Hyundai Santro Xing XO eRLX Euro II      Kochi  2008   \n",
              "...          ...                                   ...        ...   ...   \n",
              "5873        5873   Hyundai Santro Xing XO eRLX Euro II       Pune  2006   \n",
              "5893        5893                     Maruti Estilo LXI    Chennai  2008   \n",
              "5925        5925           Skoda Laura Classic 1.8 TSI       Pune  2010   \n",
              "5943        5943               Mahindra Jeep MM 540 DP    Chennai  2002   \n",
              "5985        5985                       Toyota Etios GD      Delhi  2013   \n",
              "\n",
              "      Kilometers_Driven Fuel_Type Transmission Owner_Type     Mileage  \\\n",
              "76               111111    Diesel       Manual      First   17.8 kmpl   \n",
              "79                87591    Petrol       Manual      First    0.0 kmpl   \n",
              "89                73745    Petrol       Manual      First   17.0 kmpl   \n",
              "120              102000    Petrol       Manual     Second   17.0 kmpl   \n",
              "143               80759    Petrol       Manual      Third   17.0 kmpl   \n",
              "...                 ...       ...          ...        ...         ...   \n",
              "5873              47200    Petrol       Manual     Second   17.0 kmpl   \n",
              "5893              51000    Petrol       Manual     Second   19.5 kmpl   \n",
              "5925              85000    Petrol       Manual      First   17.5 kmpl   \n",
              "5943              75000    Diesel       Manual      First    0.0 kmpl   \n",
              "5985              70000    Diesel       Manual      First  23.59 kmpl   \n",
              "\n",
              "       Engine     Power  Seats  Price  \n",
              "76    1399 CC  null bhp      5    2.0  \n",
              "79    1086 CC  null bhp      5    1.3  \n",
              "89    1086 CC  null bhp      5    2.1  \n",
              "120   1086 CC  null bhp      5   0.85  \n",
              "143   1086 CC  null bhp      5   1.67  \n",
              "...       ...       ...    ...    ...  \n",
              "5873  1086 CC  null bhp      5    1.2  \n",
              "5893  1061 CC  null bhp      5   1.75  \n",
              "5925  1798 CC  null bhp      5   2.85  \n",
              "5943  2112 CC  null bhp      6    1.7  \n",
              "5985  1364 CC  null bhp      5   3.88  \n",
              "\n",
              "[107 rows x 13 columns]"
            ],
            "text/html": [
              "\n",
              "  <div id=\"df-6dba48b5-d267-4a37-9b45-84abf1274e6a\">\n",
              "    <div class=\"colab-df-container\">\n",
              "      <div>\n",
              "<style scoped>\n",
              "    .dataframe tbody tr th:only-of-type {\n",
              "        vertical-align: middle;\n",
              "    }\n",
              "\n",
              "    .dataframe tbody tr th {\n",
              "        vertical-align: top;\n",
              "    }\n",
              "\n",
              "    .dataframe thead th {\n",
              "        text-align: right;\n",
              "    }\n",
              "</style>\n",
              "<table border=\"1\" class=\"dataframe\">\n",
              "  <thead>\n",
              "    <tr style=\"text-align: right;\">\n",
              "      <th></th>\n",
              "      <th>Unnamed: 0</th>\n",
              "      <th>Name</th>\n",
              "      <th>Location</th>\n",
              "      <th>Year</th>\n",
              "      <th>Kilometers_Driven</th>\n",
              "      <th>Fuel_Type</th>\n",
              "      <th>Transmission</th>\n",
              "      <th>Owner_Type</th>\n",
              "      <th>Mileage</th>\n",
              "      <th>Engine</th>\n",
              "      <th>Power</th>\n",
              "      <th>Seats</th>\n",
              "      <th>Price</th>\n",
              "    </tr>\n",
              "  </thead>\n",
              "  <tbody>\n",
              "    <tr>\n",
              "      <th>76</th>\n",
              "      <td>76</td>\n",
              "      <td>Ford Fiesta 1.4 SXi TDCi</td>\n",
              "      <td>Jaipur</td>\n",
              "      <td>2008</td>\n",
              "      <td>111111</td>\n",
              "      <td>Diesel</td>\n",
              "      <td>Manual</td>\n",
              "      <td>First</td>\n",
              "      <td>17.8 kmpl</td>\n",
              "      <td>1399 CC</td>\n",
              "      <td>null bhp</td>\n",
              "      <td>5</td>\n",
              "      <td>2.0</td>\n",
              "    </tr>\n",
              "    <tr>\n",
              "      <th>79</th>\n",
              "      <td>79</td>\n",
              "      <td>Hyundai Santro Xing XL</td>\n",
              "      <td>Hyderabad</td>\n",
              "      <td>2005</td>\n",
              "      <td>87591</td>\n",
              "      <td>Petrol</td>\n",
              "      <td>Manual</td>\n",
              "      <td>First</td>\n",
              "      <td>0.0 kmpl</td>\n",
              "      <td>1086 CC</td>\n",
              "      <td>null bhp</td>\n",
              "      <td>5</td>\n",
              "      <td>1.3</td>\n",
              "    </tr>\n",
              "    <tr>\n",
              "      <th>89</th>\n",
              "      <td>89</td>\n",
              "      <td>Hyundai Santro Xing XO</td>\n",
              "      <td>Hyderabad</td>\n",
              "      <td>2007</td>\n",
              "      <td>73745</td>\n",
              "      <td>Petrol</td>\n",
              "      <td>Manual</td>\n",
              "      <td>First</td>\n",
              "      <td>17.0 kmpl</td>\n",
              "      <td>1086 CC</td>\n",
              "      <td>null bhp</td>\n",
              "      <td>5</td>\n",
              "      <td>2.1</td>\n",
              "    </tr>\n",
              "    <tr>\n",
              "      <th>120</th>\n",
              "      <td>120</td>\n",
              "      <td>Hyundai Santro Xing XL eRLX Euro III</td>\n",
              "      <td>Mumbai</td>\n",
              "      <td>2005</td>\n",
              "      <td>102000</td>\n",
              "      <td>Petrol</td>\n",
              "      <td>Manual</td>\n",
              "      <td>Second</td>\n",
              "      <td>17.0 kmpl</td>\n",
              "      <td>1086 CC</td>\n",
              "      <td>null bhp</td>\n",
              "      <td>5</td>\n",
              "      <td>0.85</td>\n",
              "    </tr>\n",
              "    <tr>\n",
              "      <th>143</th>\n",
              "      <td>143</td>\n",
              "      <td>Hyundai Santro Xing XO eRLX Euro II</td>\n",
              "      <td>Kochi</td>\n",
              "      <td>2008</td>\n",
              "      <td>80759</td>\n",
              "      <td>Petrol</td>\n",
              "      <td>Manual</td>\n",
              "      <td>Third</td>\n",
              "      <td>17.0 kmpl</td>\n",
              "      <td>1086 CC</td>\n",
              "      <td>null bhp</td>\n",
              "      <td>5</td>\n",
              "      <td>1.67</td>\n",
              "    </tr>\n",
              "    <tr>\n",
              "      <th>...</th>\n",
              "      <td>...</td>\n",
              "      <td>...</td>\n",
              "      <td>...</td>\n",
              "      <td>...</td>\n",
              "      <td>...</td>\n",
              "      <td>...</td>\n",
              "      <td>...</td>\n",
              "      <td>...</td>\n",
              "      <td>...</td>\n",
              "      <td>...</td>\n",
              "      <td>...</td>\n",
              "      <td>...</td>\n",
              "      <td>...</td>\n",
              "    </tr>\n",
              "    <tr>\n",
              "      <th>5873</th>\n",
              "      <td>5873</td>\n",
              "      <td>Hyundai Santro Xing XO eRLX Euro II</td>\n",
              "      <td>Pune</td>\n",
              "      <td>2006</td>\n",
              "      <td>47200</td>\n",
              "      <td>Petrol</td>\n",
              "      <td>Manual</td>\n",
              "      <td>Second</td>\n",
              "      <td>17.0 kmpl</td>\n",
              "      <td>1086 CC</td>\n",
              "      <td>null bhp</td>\n",
              "      <td>5</td>\n",
              "      <td>1.2</td>\n",
              "    </tr>\n",
              "    <tr>\n",
              "      <th>5893</th>\n",
              "      <td>5893</td>\n",
              "      <td>Maruti Estilo LXI</td>\n",
              "      <td>Chennai</td>\n",
              "      <td>2008</td>\n",
              "      <td>51000</td>\n",
              "      <td>Petrol</td>\n",
              "      <td>Manual</td>\n",
              "      <td>Second</td>\n",
              "      <td>19.5 kmpl</td>\n",
              "      <td>1061 CC</td>\n",
              "      <td>null bhp</td>\n",
              "      <td>5</td>\n",
              "      <td>1.75</td>\n",
              "    </tr>\n",
              "    <tr>\n",
              "      <th>5925</th>\n",
              "      <td>5925</td>\n",
              "      <td>Skoda Laura Classic 1.8 TSI</td>\n",
              "      <td>Pune</td>\n",
              "      <td>2010</td>\n",
              "      <td>85000</td>\n",
              "      <td>Petrol</td>\n",
              "      <td>Manual</td>\n",
              "      <td>First</td>\n",
              "      <td>17.5 kmpl</td>\n",
              "      <td>1798 CC</td>\n",
              "      <td>null bhp</td>\n",
              "      <td>5</td>\n",
              "      <td>2.85</td>\n",
              "    </tr>\n",
              "    <tr>\n",
              "      <th>5943</th>\n",
              "      <td>5943</td>\n",
              "      <td>Mahindra Jeep MM 540 DP</td>\n",
              "      <td>Chennai</td>\n",
              "      <td>2002</td>\n",
              "      <td>75000</td>\n",
              "      <td>Diesel</td>\n",
              "      <td>Manual</td>\n",
              "      <td>First</td>\n",
              "      <td>0.0 kmpl</td>\n",
              "      <td>2112 CC</td>\n",
              "      <td>null bhp</td>\n",
              "      <td>6</td>\n",
              "      <td>1.7</td>\n",
              "    </tr>\n",
              "    <tr>\n",
              "      <th>5985</th>\n",
              "      <td>5985</td>\n",
              "      <td>Toyota Etios GD</td>\n",
              "      <td>Delhi</td>\n",
              "      <td>2013</td>\n",
              "      <td>70000</td>\n",
              "      <td>Diesel</td>\n",
              "      <td>Manual</td>\n",
              "      <td>First</td>\n",
              "      <td>23.59 kmpl</td>\n",
              "      <td>1364 CC</td>\n",
              "      <td>null bhp</td>\n",
              "      <td>5</td>\n",
              "      <td>3.88</td>\n",
              "    </tr>\n",
              "  </tbody>\n",
              "</table>\n",
              "<p>107 rows × 13 columns</p>\n",
              "</div>\n",
              "      <button class=\"colab-df-convert\" onclick=\"convertToInteractive('df-6dba48b5-d267-4a37-9b45-84abf1274e6a')\"\n",
              "              title=\"Convert this dataframe to an interactive table.\"\n",
              "              style=\"display:none;\">\n",
              "        \n",
              "  <svg xmlns=\"http://www.w3.org/2000/svg\" height=\"24px\"viewBox=\"0 0 24 24\"\n",
              "       width=\"24px\">\n",
              "    <path d=\"M0 0h24v24H0V0z\" fill=\"none\"/>\n",
              "    <path d=\"M18.56 5.44l.94 2.06.94-2.06 2.06-.94-2.06-.94-.94-2.06-.94 2.06-2.06.94zm-11 1L8.5 8.5l.94-2.06 2.06-.94-2.06-.94L8.5 2.5l-.94 2.06-2.06.94zm10 10l.94 2.06.94-2.06 2.06-.94-2.06-.94-.94-2.06-.94 2.06-2.06.94z\"/><path d=\"M17.41 7.96l-1.37-1.37c-.4-.4-.92-.59-1.43-.59-.52 0-1.04.2-1.43.59L10.3 9.45l-7.72 7.72c-.78.78-.78 2.05 0 2.83L4 21.41c.39.39.9.59 1.41.59.51 0 1.02-.2 1.41-.59l7.78-7.78 2.81-2.81c.8-.78.8-2.07 0-2.86zM5.41 20L4 18.59l7.72-7.72 1.47 1.35L5.41 20z\"/>\n",
              "  </svg>\n",
              "      </button>\n",
              "      \n",
              "  <style>\n",
              "    .colab-df-container {\n",
              "      display:flex;\n",
              "      flex-wrap:wrap;\n",
              "      gap: 12px;\n",
              "    }\n",
              "\n",
              "    .colab-df-convert {\n",
              "      background-color: #E8F0FE;\n",
              "      border: none;\n",
              "      border-radius: 50%;\n",
              "      cursor: pointer;\n",
              "      display: none;\n",
              "      fill: #1967D2;\n",
              "      height: 32px;\n",
              "      padding: 0 0 0 0;\n",
              "      width: 32px;\n",
              "    }\n",
              "\n",
              "    .colab-df-convert:hover {\n",
              "      background-color: #E2EBFA;\n",
              "      box-shadow: 0px 1px 2px rgba(60, 64, 67, 0.3), 0px 1px 3px 1px rgba(60, 64, 67, 0.15);\n",
              "      fill: #174EA6;\n",
              "    }\n",
              "\n",
              "    [theme=dark] .colab-df-convert {\n",
              "      background-color: #3B4455;\n",
              "      fill: #D2E3FC;\n",
              "    }\n",
              "\n",
              "    [theme=dark] .colab-df-convert:hover {\n",
              "      background-color: #434B5C;\n",
              "      box-shadow: 0px 1px 3px 1px rgba(0, 0, 0, 0.15);\n",
              "      filter: drop-shadow(0px 1px 2px rgba(0, 0, 0, 0.3));\n",
              "      fill: #FFFFFF;\n",
              "    }\n",
              "  </style>\n",
              "\n",
              "      <script>\n",
              "        const buttonEl =\n",
              "          document.querySelector('#df-6dba48b5-d267-4a37-9b45-84abf1274e6a button.colab-df-convert');\n",
              "        buttonEl.style.display =\n",
              "          google.colab.kernel.accessAllowed ? 'block' : 'none';\n",
              "\n",
              "        async function convertToInteractive(key) {\n",
              "          const element = document.querySelector('#df-6dba48b5-d267-4a37-9b45-84abf1274e6a');\n",
              "          const dataTable =\n",
              "            await google.colab.kernel.invokeFunction('convertToInteractive',\n",
              "                                                     [key], {});\n",
              "          if (!dataTable) return;\n",
              "\n",
              "          const docLinkHtml = 'Like what you see? Visit the ' +\n",
              "            '<a target=\"_blank\" href=https://colab.research.google.com/notebooks/data_table.ipynb>data table notebook</a>'\n",
              "            + ' to learn more about interactive tables.';\n",
              "          element.innerHTML = '';\n",
              "          dataTable['output_type'] = 'display_data';\n",
              "          await google.colab.output.renderOutput(dataTable, element);\n",
              "          const docLink = document.createElement('div');\n",
              "          docLink.innerHTML = docLinkHtml;\n",
              "          element.appendChild(docLink);\n",
              "        }\n",
              "      </script>\n",
              "    </div>\n",
              "  </div>\n",
              "  "
            ]
          },
          "metadata": {},
          "execution_count": 81
        }
      ]
    },
    {
      "cell_type": "code",
      "source": [
        "indx = df[df['Power'] == 'null bhp'].index"
      ],
      "metadata": {
        "execution": {
          "iopub.status.busy": "2022-09-11T11:40:07.88013Z",
          "iopub.execute_input": "2022-09-11T11:40:07.880905Z",
          "iopub.status.idle": "2022-09-11T11:40:07.892132Z",
          "shell.execute_reply.started": "2022-09-11T11:40:07.880866Z",
          "shell.execute_reply": "2022-09-11T11:40:07.89041Z"
        },
        "trusted": true,
        "id": "HwhK5LTGCweM"
      },
      "execution_count": 82,
      "outputs": []
    },
    {
      "cell_type": "code",
      "source": [
        "df.drop(indx,axis=0,inplace=True)"
      ],
      "metadata": {
        "execution": {
          "iopub.status.busy": "2022-09-11T11:40:07.898857Z",
          "iopub.execute_input": "2022-09-11T11:40:07.89962Z",
          "iopub.status.idle": "2022-09-11T11:40:07.910764Z",
          "shell.execute_reply.started": "2022-09-11T11:40:07.899581Z",
          "shell.execute_reply": "2022-09-11T11:40:07.909196Z"
        },
        "trusted": true,
        "id": "_Dg1KW0kCweM"
      },
      "execution_count": 83,
      "outputs": []
    },
    {
      "cell_type": "markdown",
      "source": [
        "- (KMPL) is refered to Kilometers Per Litre\n",
        "- (km/kg) is refered to kilometers Per kilogram\n",
        "> 1 liter  = 1 kilogram \n",
        "- Reference : https://en.wikipedia.org/wiki/Litre"
      ],
      "metadata": {
        "id": "LAoSY1DVCweN"
      }
    },
    {
      "cell_type": "code",
      "source": [
        "dirty_cols = ['Mileage', 'Engine', 'Power']"
      ],
      "metadata": {
        "execution": {
          "iopub.status.busy": "2022-09-11T11:40:07.912744Z",
          "iopub.execute_input": "2022-09-11T11:40:07.913859Z",
          "iopub.status.idle": "2022-09-11T11:40:07.920955Z",
          "shell.execute_reply.started": "2022-09-11T11:40:07.913809Z",
          "shell.execute_reply": "2022-09-11T11:40:07.919383Z"
        },
        "trusted": true,
        "id": "VL-b90QoCweN"
      },
      "execution_count": 84,
      "outputs": []
    },
    {
      "cell_type": "code",
      "source": [
        "for col in dirty_cols:\n",
        "    df[col] = df[col].apply(lambda x : float(x.split()[0]))"
      ],
      "metadata": {
        "execution": {
          "iopub.status.busy": "2022-09-11T11:40:07.922521Z",
          "iopub.execute_input": "2022-09-11T11:40:07.924733Z",
          "iopub.status.idle": "2022-09-11T11:40:07.95027Z",
          "shell.execute_reply.started": "2022-09-11T11:40:07.924666Z",
          "shell.execute_reply": "2022-09-11T11:40:07.948663Z"
        },
        "trusted": true,
        "id": "Q6gzAVNhCweN"
      },
      "execution_count": 85,
      "outputs": []
    },
    {
      "cell_type": "markdown",
      "source": [
        "#### values health checking "
      ],
      "metadata": {
        "id": "36aIZfXXCweN"
      }
    },
    {
      "cell_type": "code",
      "source": [
        "df.sample(5)"
      ],
      "metadata": {
        "execution": {
          "iopub.status.busy": "2022-09-11T11:40:07.952147Z",
          "iopub.execute_input": "2022-09-11T11:40:07.952924Z",
          "iopub.status.idle": "2022-09-11T11:40:07.986426Z",
          "shell.execute_reply.started": "2022-09-11T11:40:07.952878Z",
          "shell.execute_reply": "2022-09-11T11:40:07.985066Z"
        },
        "trusted": true,
        "colab": {
          "base_uri": "https://localhost:8080/",
          "height": 0
        },
        "id": "l69daqlrCweN",
        "outputId": "ccaedc28-812c-4099-dce8-f7699213048c"
      },
      "execution_count": 86,
      "outputs": [
        {
          "output_type": "execute_result",
          "data": {
            "text/plain": [
              "      Unnamed: 0                          Name   Location  Year  \\\n",
              "5556        5556      Hyundai Grand i10 Sportz    Kolkata  2013   \n",
              "1503        1503       Maruti Baleno Alpha 1.3  Hyderabad  2016   \n",
              "5576        5576     Hyundai Verna 1.6 SX VTVT     Mumbai  2014   \n",
              "2859        2859   Renault KWID Climber 1.0 MT  Hyderabad  2018   \n",
              "5479        5479  Renault KWID Climber 1.0 AMT    Chennai  2018   \n",
              "\n",
              "      Kilometers_Driven Fuel_Type Transmission Owner_Type  Mileage  Engine  \\\n",
              "5556              28000    Petrol       Manual      First    18.90  1197.0   \n",
              "1503              30112    Diesel       Manual      First    27.39  1248.0   \n",
              "5576               9200    Petrol       Manual      First    17.01  1591.0   \n",
              "2859               4126    Petrol       Manual      First    21.70   999.0   \n",
              "5479              14000    Petrol    Automatic      First    22.50   999.0   \n",
              "\n",
              "      Power  Seats  Price  \n",
              "5556   82.0      5   3.25  \n",
              "1503   74.0      5   7.79  \n",
              "5576  121.3      5   5.75  \n",
              "2859   67.0      5    4.8  \n",
              "5479   67.0      5    4.5  "
            ],
            "text/html": [
              "\n",
              "  <div id=\"df-93cbf9a5-a533-4d7a-bd12-1314bcf59d11\">\n",
              "    <div class=\"colab-df-container\">\n",
              "      <div>\n",
              "<style scoped>\n",
              "    .dataframe tbody tr th:only-of-type {\n",
              "        vertical-align: middle;\n",
              "    }\n",
              "\n",
              "    .dataframe tbody tr th {\n",
              "        vertical-align: top;\n",
              "    }\n",
              "\n",
              "    .dataframe thead th {\n",
              "        text-align: right;\n",
              "    }\n",
              "</style>\n",
              "<table border=\"1\" class=\"dataframe\">\n",
              "  <thead>\n",
              "    <tr style=\"text-align: right;\">\n",
              "      <th></th>\n",
              "      <th>Unnamed: 0</th>\n",
              "      <th>Name</th>\n",
              "      <th>Location</th>\n",
              "      <th>Year</th>\n",
              "      <th>Kilometers_Driven</th>\n",
              "      <th>Fuel_Type</th>\n",
              "      <th>Transmission</th>\n",
              "      <th>Owner_Type</th>\n",
              "      <th>Mileage</th>\n",
              "      <th>Engine</th>\n",
              "      <th>Power</th>\n",
              "      <th>Seats</th>\n",
              "      <th>Price</th>\n",
              "    </tr>\n",
              "  </thead>\n",
              "  <tbody>\n",
              "    <tr>\n",
              "      <th>5556</th>\n",
              "      <td>5556</td>\n",
              "      <td>Hyundai Grand i10 Sportz</td>\n",
              "      <td>Kolkata</td>\n",
              "      <td>2013</td>\n",
              "      <td>28000</td>\n",
              "      <td>Petrol</td>\n",
              "      <td>Manual</td>\n",
              "      <td>First</td>\n",
              "      <td>18.90</td>\n",
              "      <td>1197.0</td>\n",
              "      <td>82.0</td>\n",
              "      <td>5</td>\n",
              "      <td>3.25</td>\n",
              "    </tr>\n",
              "    <tr>\n",
              "      <th>1503</th>\n",
              "      <td>1503</td>\n",
              "      <td>Maruti Baleno Alpha 1.3</td>\n",
              "      <td>Hyderabad</td>\n",
              "      <td>2016</td>\n",
              "      <td>30112</td>\n",
              "      <td>Diesel</td>\n",
              "      <td>Manual</td>\n",
              "      <td>First</td>\n",
              "      <td>27.39</td>\n",
              "      <td>1248.0</td>\n",
              "      <td>74.0</td>\n",
              "      <td>5</td>\n",
              "      <td>7.79</td>\n",
              "    </tr>\n",
              "    <tr>\n",
              "      <th>5576</th>\n",
              "      <td>5576</td>\n",
              "      <td>Hyundai Verna 1.6 SX VTVT</td>\n",
              "      <td>Mumbai</td>\n",
              "      <td>2014</td>\n",
              "      <td>9200</td>\n",
              "      <td>Petrol</td>\n",
              "      <td>Manual</td>\n",
              "      <td>First</td>\n",
              "      <td>17.01</td>\n",
              "      <td>1591.0</td>\n",
              "      <td>121.3</td>\n",
              "      <td>5</td>\n",
              "      <td>5.75</td>\n",
              "    </tr>\n",
              "    <tr>\n",
              "      <th>2859</th>\n",
              "      <td>2859</td>\n",
              "      <td>Renault KWID Climber 1.0 MT</td>\n",
              "      <td>Hyderabad</td>\n",
              "      <td>2018</td>\n",
              "      <td>4126</td>\n",
              "      <td>Petrol</td>\n",
              "      <td>Manual</td>\n",
              "      <td>First</td>\n",
              "      <td>21.70</td>\n",
              "      <td>999.0</td>\n",
              "      <td>67.0</td>\n",
              "      <td>5</td>\n",
              "      <td>4.8</td>\n",
              "    </tr>\n",
              "    <tr>\n",
              "      <th>5479</th>\n",
              "      <td>5479</td>\n",
              "      <td>Renault KWID Climber 1.0 AMT</td>\n",
              "      <td>Chennai</td>\n",
              "      <td>2018</td>\n",
              "      <td>14000</td>\n",
              "      <td>Petrol</td>\n",
              "      <td>Automatic</td>\n",
              "      <td>First</td>\n",
              "      <td>22.50</td>\n",
              "      <td>999.0</td>\n",
              "      <td>67.0</td>\n",
              "      <td>5</td>\n",
              "      <td>4.5</td>\n",
              "    </tr>\n",
              "  </tbody>\n",
              "</table>\n",
              "</div>\n",
              "      <button class=\"colab-df-convert\" onclick=\"convertToInteractive('df-93cbf9a5-a533-4d7a-bd12-1314bcf59d11')\"\n",
              "              title=\"Convert this dataframe to an interactive table.\"\n",
              "              style=\"display:none;\">\n",
              "        \n",
              "  <svg xmlns=\"http://www.w3.org/2000/svg\" height=\"24px\"viewBox=\"0 0 24 24\"\n",
              "       width=\"24px\">\n",
              "    <path d=\"M0 0h24v24H0V0z\" fill=\"none\"/>\n",
              "    <path d=\"M18.56 5.44l.94 2.06.94-2.06 2.06-.94-2.06-.94-.94-2.06-.94 2.06-2.06.94zm-11 1L8.5 8.5l.94-2.06 2.06-.94-2.06-.94L8.5 2.5l-.94 2.06-2.06.94zm10 10l.94 2.06.94-2.06 2.06-.94-2.06-.94-.94-2.06-.94 2.06-2.06.94z\"/><path d=\"M17.41 7.96l-1.37-1.37c-.4-.4-.92-.59-1.43-.59-.52 0-1.04.2-1.43.59L10.3 9.45l-7.72 7.72c-.78.78-.78 2.05 0 2.83L4 21.41c.39.39.9.59 1.41.59.51 0 1.02-.2 1.41-.59l7.78-7.78 2.81-2.81c.8-.78.8-2.07 0-2.86zM5.41 20L4 18.59l7.72-7.72 1.47 1.35L5.41 20z\"/>\n",
              "  </svg>\n",
              "      </button>\n",
              "      \n",
              "  <style>\n",
              "    .colab-df-container {\n",
              "      display:flex;\n",
              "      flex-wrap:wrap;\n",
              "      gap: 12px;\n",
              "    }\n",
              "\n",
              "    .colab-df-convert {\n",
              "      background-color: #E8F0FE;\n",
              "      border: none;\n",
              "      border-radius: 50%;\n",
              "      cursor: pointer;\n",
              "      display: none;\n",
              "      fill: #1967D2;\n",
              "      height: 32px;\n",
              "      padding: 0 0 0 0;\n",
              "      width: 32px;\n",
              "    }\n",
              "\n",
              "    .colab-df-convert:hover {\n",
              "      background-color: #E2EBFA;\n",
              "      box-shadow: 0px 1px 2px rgba(60, 64, 67, 0.3), 0px 1px 3px 1px rgba(60, 64, 67, 0.15);\n",
              "      fill: #174EA6;\n",
              "    }\n",
              "\n",
              "    [theme=dark] .colab-df-convert {\n",
              "      background-color: #3B4455;\n",
              "      fill: #D2E3FC;\n",
              "    }\n",
              "\n",
              "    [theme=dark] .colab-df-convert:hover {\n",
              "      background-color: #434B5C;\n",
              "      box-shadow: 0px 1px 3px 1px rgba(0, 0, 0, 0.15);\n",
              "      filter: drop-shadow(0px 1px 2px rgba(0, 0, 0, 0.3));\n",
              "      fill: #FFFFFF;\n",
              "    }\n",
              "  </style>\n",
              "\n",
              "      <script>\n",
              "        const buttonEl =\n",
              "          document.querySelector('#df-93cbf9a5-a533-4d7a-bd12-1314bcf59d11 button.colab-df-convert');\n",
              "        buttonEl.style.display =\n",
              "          google.colab.kernel.accessAllowed ? 'block' : 'none';\n",
              "\n",
              "        async function convertToInteractive(key) {\n",
              "          const element = document.querySelector('#df-93cbf9a5-a533-4d7a-bd12-1314bcf59d11');\n",
              "          const dataTable =\n",
              "            await google.colab.kernel.invokeFunction('convertToInteractive',\n",
              "                                                     [key], {});\n",
              "          if (!dataTable) return;\n",
              "\n",
              "          const docLinkHtml = 'Like what you see? Visit the ' +\n",
              "            '<a target=\"_blank\" href=https://colab.research.google.com/notebooks/data_table.ipynb>data table notebook</a>'\n",
              "            + ' to learn more about interactive tables.';\n",
              "          element.innerHTML = '';\n",
              "          dataTable['output_type'] = 'display_data';\n",
              "          await google.colab.output.renderOutput(dataTable, element);\n",
              "          const docLink = document.createElement('div');\n",
              "          docLink.innerHTML = docLinkHtml;\n",
              "          element.appendChild(docLink);\n",
              "        }\n",
              "      </script>\n",
              "    </div>\n",
              "  </div>\n",
              "  "
            ]
          },
          "metadata": {},
          "execution_count": 86
        }
      ]
    },
    {
      "cell_type": "code",
      "source": [
        "df.info()"
      ],
      "metadata": {
        "execution": {
          "iopub.status.busy": "2022-09-11T11:40:07.988502Z",
          "iopub.execute_input": "2022-09-11T11:40:07.988921Z",
          "iopub.status.idle": "2022-09-11T11:40:08.009075Z",
          "shell.execute_reply.started": "2022-09-11T11:40:07.98889Z",
          "shell.execute_reply": "2022-09-11T11:40:08.007963Z"
        },
        "trusted": true,
        "colab": {
          "base_uri": "https://localhost:8080/"
        },
        "id": "XusOqonJCweO",
        "outputId": "83a1af5a-f333-4f4d-fafd-5a11535e05cc"
      },
      "execution_count": 87,
      "outputs": [
        {
          "output_type": "stream",
          "name": "stdout",
          "text": [
            "<class 'pandas.core.frame.DataFrame'>\n",
            "Int64Index: 5912 entries, 0 to 6018\n",
            "Data columns (total 13 columns):\n",
            " #   Column             Non-Null Count  Dtype  \n",
            "---  ------             --------------  -----  \n",
            " 0   Unnamed: 0         5912 non-null   Int64  \n",
            " 1   Name               5912 non-null   string \n",
            " 2   Location           5912 non-null   string \n",
            " 3   Year               5912 non-null   Int64  \n",
            " 4   Kilometers_Driven  5912 non-null   Int64  \n",
            " 5   Fuel_Type          5912 non-null   string \n",
            " 6   Transmission       5912 non-null   string \n",
            " 7   Owner_Type         5912 non-null   string \n",
            " 8   Mileage            5912 non-null   float64\n",
            " 9   Engine             5912 non-null   float64\n",
            " 10  Power              5912 non-null   float64\n",
            " 11  Seats              5912 non-null   Int64  \n",
            " 12  Price              5912 non-null   Float64\n",
            "dtypes: Float64(1), Int64(4), float64(3), string(5)\n",
            "memory usage: 675.5 KB\n"
          ]
        }
      ]
    },
    {
      "cell_type": "markdown",
      "source": [
        "___________________________________"
      ],
      "metadata": {
        "id": "GAorPeIsCweO"
      }
    },
    {
      "cell_type": "markdown",
      "source": [
        "# 2. Feature Engineering"
      ],
      "metadata": {
        "id": "ER1oKdqxCweO"
      }
    },
    {
      "cell_type": "code",
      "source": [
        "# Check Name column uniques \n",
        "df[\"Name\"].nunique()"
      ],
      "metadata": {
        "execution": {
          "iopub.status.busy": "2022-09-11T11:40:08.010706Z",
          "iopub.execute_input": "2022-09-11T11:40:08.011094Z",
          "iopub.status.idle": "2022-09-11T11:40:08.020429Z",
          "shell.execute_reply.started": "2022-09-11T11:40:08.011057Z",
          "shell.execute_reply": "2022-09-11T11:40:08.01939Z"
        },
        "trusted": true,
        "colab": {
          "base_uri": "https://localhost:8080/"
        },
        "id": "GLkNqOb-CweO",
        "outputId": "aea67e56-5f9c-4024-a805-5f579695600b"
      },
      "execution_count": 88,
      "outputs": [
        {
          "output_type": "execute_result",
          "data": {
            "text/plain": [
              "1830"
            ]
          },
          "metadata": {},
          "execution_count": 88
        }
      ]
    },
    {
      "cell_type": "code",
      "source": [
        "print(\"Percentage of uniques\",round(df[\"Name\"].nunique()/df.shape[0]*100),\"%\")"
      ],
      "metadata": {
        "execution": {
          "iopub.status.busy": "2022-09-11T11:40:08.022001Z",
          "iopub.execute_input": "2022-09-11T11:40:08.022386Z",
          "iopub.status.idle": "2022-09-11T11:40:08.033982Z",
          "shell.execute_reply.started": "2022-09-11T11:40:08.022341Z",
          "shell.execute_reply": "2022-09-11T11:40:08.03255Z"
        },
        "trusted": true,
        "colab": {
          "base_uri": "https://localhost:8080/"
        },
        "id": "JXY8NYvZCweO",
        "outputId": "ac42779e-79c5-4980-b3f3-1c106f86d0fa"
      },
      "execution_count": 89,
      "outputs": [
        {
          "output_type": "stream",
          "name": "stdout",
          "text": [
            "Percentage of uniques 31 %\n"
          ]
        }
      ]
    },
    {
      "cell_type": "markdown",
      "source": [
        ">  \"Name\" feature has no affect that's because it has so many unique values \n",
        "- So let's make it useful and impactful "
      ],
      "metadata": {
        "id": "rdPcuTIcCweP"
      }
    },
    {
      "cell_type": "code",
      "source": [
        "df[\"Name\"]"
      ],
      "metadata": {
        "execution": {
          "iopub.status.busy": "2022-09-11T11:40:08.036007Z",
          "iopub.execute_input": "2022-09-11T11:40:08.03639Z",
          "iopub.status.idle": "2022-09-11T11:40:08.047827Z",
          "shell.execute_reply.started": "2022-09-11T11:40:08.036344Z",
          "shell.execute_reply": "2022-09-11T11:40:08.046439Z"
        },
        "trusted": true,
        "colab": {
          "base_uri": "https://localhost:8080/"
        },
        "id": "i9Pn1EVsCweP",
        "outputId": "4b3e4a35-e8d5-4b2f-8bb2-ee712d9b8122"
      },
      "execution_count": 90,
      "outputs": [
        {
          "output_type": "execute_result",
          "data": {
            "text/plain": [
              "0                 Maruti Wagon R LXI CNG\n",
              "1       Hyundai Creta 1.6 CRDi SX Option\n",
              "2                           Honda Jazz V\n",
              "3                      Maruti Ertiga VDI\n",
              "4        Audi A4 New 2.0 TDI Multitronic\n",
              "                      ...               \n",
              "6014                    Maruti Swift VDI\n",
              "6015            Hyundai Xcent 1.1 CRDi S\n",
              "6016               Mahindra Xylo D4 BSIV\n",
              "6017                  Maruti Wagon R VXI\n",
              "6018               Chevrolet Beat Diesel\n",
              "Name: Name, Length: 5912, dtype: string"
            ]
          },
          "metadata": {},
          "execution_count": 90
        }
      ]
    },
    {
      "cell_type": "markdown",
      "source": [
        "> We can notice that the first word of the name is (Brand), so let's get it "
      ],
      "metadata": {
        "id": "fCwRpd1aCweQ"
      }
    },
    {
      "cell_type": "code",
      "source": [
        "df[\"Brand\"] = df[\"Name\"].apply(lambda x : x.split()[0])"
      ],
      "metadata": {
        "execution": {
          "iopub.status.busy": "2022-09-11T11:40:08.049417Z",
          "iopub.execute_input": "2022-09-11T11:40:08.049947Z",
          "iopub.status.idle": "2022-09-11T11:40:08.062614Z",
          "shell.execute_reply.started": "2022-09-11T11:40:08.049911Z",
          "shell.execute_reply": "2022-09-11T11:40:08.060794Z"
        },
        "trusted": true,
        "id": "Lk525lVqCweQ"
      },
      "execution_count": 91,
      "outputs": []
    },
    {
      "cell_type": "code",
      "source": [
        "df[\"Brand\"].nunique()"
      ],
      "metadata": {
        "execution": {
          "iopub.status.busy": "2022-09-11T11:40:08.064278Z",
          "iopub.execute_input": "2022-09-11T11:40:08.065091Z",
          "iopub.status.idle": "2022-09-11T11:40:08.079186Z",
          "shell.execute_reply.started": "2022-09-11T11:40:08.065054Z",
          "shell.execute_reply": "2022-09-11T11:40:08.078205Z"
        },
        "trusted": true,
        "colab": {
          "base_uri": "https://localhost:8080/"
        },
        "id": "vb0rTUFuCweQ",
        "outputId": "27d50231-b034-4fe7-9fea-8e33a3066014"
      },
      "execution_count": 92,
      "outputs": [
        {
          "output_type": "execute_result",
          "data": {
            "text/plain": [
              "30"
            ]
          },
          "metadata": {},
          "execution_count": 92
        }
      ]
    },
    {
      "cell_type": "markdown",
      "source": [
        "- A huge difference here, From this columns we can make a big affect. "
      ],
      "metadata": {
        "id": "a3zC3sRcCweQ"
      }
    },
    {
      "cell_type": "markdown",
      "source": [
        "> Another observation that first two word can express wich car we want. \n",
        "- So, let's change name column with just first 2 words. "
      ],
      "metadata": {
        "id": "7MN8AKDwCweR"
      }
    },
    {
      "cell_type": "code",
      "source": [
        "df[\"Name\"] = df[\"Name\"].apply(lambda x : \" \".join(x.split()[:2]))"
      ],
      "metadata": {
        "execution": {
          "iopub.status.busy": "2022-09-11T11:40:08.080662Z",
          "iopub.execute_input": "2022-09-11T11:40:08.08128Z",
          "iopub.status.idle": "2022-09-11T11:40:08.09759Z",
          "shell.execute_reply.started": "2022-09-11T11:40:08.081245Z",
          "shell.execute_reply": "2022-09-11T11:40:08.096071Z"
        },
        "trusted": true,
        "id": "ktwN2hBnCweR"
      },
      "execution_count": 93,
      "outputs": []
    },
    {
      "cell_type": "code",
      "source": [
        "df[\"Name\"].nunique()"
      ],
      "metadata": {
        "execution": {
          "iopub.status.busy": "2022-09-11T11:40:08.099565Z",
          "iopub.execute_input": "2022-09-11T11:40:08.100649Z",
          "iopub.status.idle": "2022-09-11T11:40:08.108856Z",
          "shell.execute_reply.started": "2022-09-11T11:40:08.10061Z",
          "shell.execute_reply": "2022-09-11T11:40:08.107998Z"
        },
        "trusted": true,
        "colab": {
          "base_uri": "https://localhost:8080/"
        },
        "id": "5o36xSHkCweR",
        "outputId": "30aed387-ec95-400c-f0cd-ac0ce3cf81c1"
      },
      "execution_count": 94,
      "outputs": [
        {
          "output_type": "execute_result",
          "data": {
            "text/plain": [
              "209"
            ]
          },
          "metadata": {},
          "execution_count": 94
        }
      ]
    },
    {
      "cell_type": "markdown",
      "source": [
        "- That's great, Now we can make an affect with name column. "
      ],
      "metadata": {
        "id": "rUY8z6roCweR"
      }
    },
    {
      "cell_type": "code",
      "source": [
        "df = df.convert_dtypes()"
      ],
      "metadata": {
        "execution": {
          "iopub.status.busy": "2022-09-11T11:40:08.110031Z",
          "iopub.execute_input": "2022-09-11T11:40:08.110655Z",
          "iopub.status.idle": "2022-09-11T11:40:08.13174Z",
          "shell.execute_reply.started": "2022-09-11T11:40:08.110594Z",
          "shell.execute_reply": "2022-09-11T11:40:08.130262Z"
        },
        "trusted": true,
        "id": "0DG1MWesCweR"
      },
      "execution_count": 95,
      "outputs": []
    },
    {
      "cell_type": "markdown",
      "source": [
        "________________________"
      ],
      "metadata": {
        "id": "vvhIiLHJCweS"
      }
    },
    {
      "cell_type": "code",
      "source": [
        "df.sample(5)"
      ],
      "metadata": {
        "execution": {
          "iopub.status.busy": "2022-09-11T11:40:08.134435Z",
          "iopub.execute_input": "2022-09-11T11:40:08.135116Z",
          "iopub.status.idle": "2022-09-11T11:40:08.162351Z",
          "shell.execute_reply.started": "2022-09-11T11:40:08.135068Z",
          "shell.execute_reply": "2022-09-11T11:40:08.161239Z"
        },
        "trusted": true,
        "colab": {
          "base_uri": "https://localhost:8080/",
          "height": 206
        },
        "id": "gSDRtTHlCweS",
        "outputId": "2fc48b38-c97a-4cf4-9004-db984e2672dd"
      },
      "execution_count": 96,
      "outputs": [
        {
          "output_type": "execute_result",
          "data": {
            "text/plain": [
              "      Unnamed: 0          Name Location  Year  Kilometers_Driven Fuel_Type  \\\n",
              "2067        2067  Maruti Swift     Pune  2008              56230    Petrol   \n",
              "3391        3391   Hyundai i10     Pune  2013              45000    Petrol   \n",
              "2407        2407    Honda City  Chennai  2013              83432    Petrol   \n",
              "5015        5015  Maruti Swift    Delhi  2006              63000    Petrol   \n",
              "1520        1520  Nissan Sunny     Pune  2014              95000    Diesel   \n",
              "\n",
              "     Transmission Owner_Type  Mileage  Engine  Power  Seats  Price    Brand  \n",
              "2067       Manual     Second     17.5    1298   85.8      5    2.4   Maruti  \n",
              "3391       Manual      First    20.36    1197   78.9      5   3.55  Hyundai  \n",
              "2407       Manual      First     17.0    1497  118.0      5    5.9    Honda  \n",
              "5015       Manual      First     16.1    1197   74.0      5    1.6   Maruti  \n",
              "1520       Manual      First    21.64    1461   84.8      5    4.5   Nissan  "
            ],
            "text/html": [
              "\n",
              "  <div id=\"df-6da300ff-0e72-4dc2-af8d-fc90893af748\">\n",
              "    <div class=\"colab-df-container\">\n",
              "      <div>\n",
              "<style scoped>\n",
              "    .dataframe tbody tr th:only-of-type {\n",
              "        vertical-align: middle;\n",
              "    }\n",
              "\n",
              "    .dataframe tbody tr th {\n",
              "        vertical-align: top;\n",
              "    }\n",
              "\n",
              "    .dataframe thead th {\n",
              "        text-align: right;\n",
              "    }\n",
              "</style>\n",
              "<table border=\"1\" class=\"dataframe\">\n",
              "  <thead>\n",
              "    <tr style=\"text-align: right;\">\n",
              "      <th></th>\n",
              "      <th>Unnamed: 0</th>\n",
              "      <th>Name</th>\n",
              "      <th>Location</th>\n",
              "      <th>Year</th>\n",
              "      <th>Kilometers_Driven</th>\n",
              "      <th>Fuel_Type</th>\n",
              "      <th>Transmission</th>\n",
              "      <th>Owner_Type</th>\n",
              "      <th>Mileage</th>\n",
              "      <th>Engine</th>\n",
              "      <th>Power</th>\n",
              "      <th>Seats</th>\n",
              "      <th>Price</th>\n",
              "      <th>Brand</th>\n",
              "    </tr>\n",
              "  </thead>\n",
              "  <tbody>\n",
              "    <tr>\n",
              "      <th>2067</th>\n",
              "      <td>2067</td>\n",
              "      <td>Maruti Swift</td>\n",
              "      <td>Pune</td>\n",
              "      <td>2008</td>\n",
              "      <td>56230</td>\n",
              "      <td>Petrol</td>\n",
              "      <td>Manual</td>\n",
              "      <td>Second</td>\n",
              "      <td>17.5</td>\n",
              "      <td>1298</td>\n",
              "      <td>85.8</td>\n",
              "      <td>5</td>\n",
              "      <td>2.4</td>\n",
              "      <td>Maruti</td>\n",
              "    </tr>\n",
              "    <tr>\n",
              "      <th>3391</th>\n",
              "      <td>3391</td>\n",
              "      <td>Hyundai i10</td>\n",
              "      <td>Pune</td>\n",
              "      <td>2013</td>\n",
              "      <td>45000</td>\n",
              "      <td>Petrol</td>\n",
              "      <td>Manual</td>\n",
              "      <td>First</td>\n",
              "      <td>20.36</td>\n",
              "      <td>1197</td>\n",
              "      <td>78.9</td>\n",
              "      <td>5</td>\n",
              "      <td>3.55</td>\n",
              "      <td>Hyundai</td>\n",
              "    </tr>\n",
              "    <tr>\n",
              "      <th>2407</th>\n",
              "      <td>2407</td>\n",
              "      <td>Honda City</td>\n",
              "      <td>Chennai</td>\n",
              "      <td>2013</td>\n",
              "      <td>83432</td>\n",
              "      <td>Petrol</td>\n",
              "      <td>Manual</td>\n",
              "      <td>First</td>\n",
              "      <td>17.0</td>\n",
              "      <td>1497</td>\n",
              "      <td>118.0</td>\n",
              "      <td>5</td>\n",
              "      <td>5.9</td>\n",
              "      <td>Honda</td>\n",
              "    </tr>\n",
              "    <tr>\n",
              "      <th>5015</th>\n",
              "      <td>5015</td>\n",
              "      <td>Maruti Swift</td>\n",
              "      <td>Delhi</td>\n",
              "      <td>2006</td>\n",
              "      <td>63000</td>\n",
              "      <td>Petrol</td>\n",
              "      <td>Manual</td>\n",
              "      <td>First</td>\n",
              "      <td>16.1</td>\n",
              "      <td>1197</td>\n",
              "      <td>74.0</td>\n",
              "      <td>5</td>\n",
              "      <td>1.6</td>\n",
              "      <td>Maruti</td>\n",
              "    </tr>\n",
              "    <tr>\n",
              "      <th>1520</th>\n",
              "      <td>1520</td>\n",
              "      <td>Nissan Sunny</td>\n",
              "      <td>Pune</td>\n",
              "      <td>2014</td>\n",
              "      <td>95000</td>\n",
              "      <td>Diesel</td>\n",
              "      <td>Manual</td>\n",
              "      <td>First</td>\n",
              "      <td>21.64</td>\n",
              "      <td>1461</td>\n",
              "      <td>84.8</td>\n",
              "      <td>5</td>\n",
              "      <td>4.5</td>\n",
              "      <td>Nissan</td>\n",
              "    </tr>\n",
              "  </tbody>\n",
              "</table>\n",
              "</div>\n",
              "      <button class=\"colab-df-convert\" onclick=\"convertToInteractive('df-6da300ff-0e72-4dc2-af8d-fc90893af748')\"\n",
              "              title=\"Convert this dataframe to an interactive table.\"\n",
              "              style=\"display:none;\">\n",
              "        \n",
              "  <svg xmlns=\"http://www.w3.org/2000/svg\" height=\"24px\"viewBox=\"0 0 24 24\"\n",
              "       width=\"24px\">\n",
              "    <path d=\"M0 0h24v24H0V0z\" fill=\"none\"/>\n",
              "    <path d=\"M18.56 5.44l.94 2.06.94-2.06 2.06-.94-2.06-.94-.94-2.06-.94 2.06-2.06.94zm-11 1L8.5 8.5l.94-2.06 2.06-.94-2.06-.94L8.5 2.5l-.94 2.06-2.06.94zm10 10l.94 2.06.94-2.06 2.06-.94-2.06-.94-.94-2.06-.94 2.06-2.06.94z\"/><path d=\"M17.41 7.96l-1.37-1.37c-.4-.4-.92-.59-1.43-.59-.52 0-1.04.2-1.43.59L10.3 9.45l-7.72 7.72c-.78.78-.78 2.05 0 2.83L4 21.41c.39.39.9.59 1.41.59.51 0 1.02-.2 1.41-.59l7.78-7.78 2.81-2.81c.8-.78.8-2.07 0-2.86zM5.41 20L4 18.59l7.72-7.72 1.47 1.35L5.41 20z\"/>\n",
              "  </svg>\n",
              "      </button>\n",
              "      \n",
              "  <style>\n",
              "    .colab-df-container {\n",
              "      display:flex;\n",
              "      flex-wrap:wrap;\n",
              "      gap: 12px;\n",
              "    }\n",
              "\n",
              "    .colab-df-convert {\n",
              "      background-color: #E8F0FE;\n",
              "      border: none;\n",
              "      border-radius: 50%;\n",
              "      cursor: pointer;\n",
              "      display: none;\n",
              "      fill: #1967D2;\n",
              "      height: 32px;\n",
              "      padding: 0 0 0 0;\n",
              "      width: 32px;\n",
              "    }\n",
              "\n",
              "    .colab-df-convert:hover {\n",
              "      background-color: #E2EBFA;\n",
              "      box-shadow: 0px 1px 2px rgba(60, 64, 67, 0.3), 0px 1px 3px 1px rgba(60, 64, 67, 0.15);\n",
              "      fill: #174EA6;\n",
              "    }\n",
              "\n",
              "    [theme=dark] .colab-df-convert {\n",
              "      background-color: #3B4455;\n",
              "      fill: #D2E3FC;\n",
              "    }\n",
              "\n",
              "    [theme=dark] .colab-df-convert:hover {\n",
              "      background-color: #434B5C;\n",
              "      box-shadow: 0px 1px 3px 1px rgba(0, 0, 0, 0.15);\n",
              "      filter: drop-shadow(0px 1px 2px rgba(0, 0, 0, 0.3));\n",
              "      fill: #FFFFFF;\n",
              "    }\n",
              "  </style>\n",
              "\n",
              "      <script>\n",
              "        const buttonEl =\n",
              "          document.querySelector('#df-6da300ff-0e72-4dc2-af8d-fc90893af748 button.colab-df-convert');\n",
              "        buttonEl.style.display =\n",
              "          google.colab.kernel.accessAllowed ? 'block' : 'none';\n",
              "\n",
              "        async function convertToInteractive(key) {\n",
              "          const element = document.querySelector('#df-6da300ff-0e72-4dc2-af8d-fc90893af748');\n",
              "          const dataTable =\n",
              "            await google.colab.kernel.invokeFunction('convertToInteractive',\n",
              "                                                     [key], {});\n",
              "          if (!dataTable) return;\n",
              "\n",
              "          const docLinkHtml = 'Like what you see? Visit the ' +\n",
              "            '<a target=\"_blank\" href=https://colab.research.google.com/notebooks/data_table.ipynb>data table notebook</a>'\n",
              "            + ' to learn more about interactive tables.';\n",
              "          element.innerHTML = '';\n",
              "          dataTable['output_type'] = 'display_data';\n",
              "          await google.colab.output.renderOutput(dataTable, element);\n",
              "          const docLink = document.createElement('div');\n",
              "          docLink.innerHTML = docLinkHtml;\n",
              "          element.appendChild(docLink);\n",
              "        }\n",
              "      </script>\n",
              "    </div>\n",
              "  </div>\n",
              "  "
            ]
          },
          "metadata": {},
          "execution_count": 96
        }
      ]
    },
    {
      "cell_type": "code",
      "source": [
        "df.info()"
      ],
      "metadata": {
        "execution": {
          "iopub.status.busy": "2022-09-11T11:40:08.163936Z",
          "iopub.execute_input": "2022-09-11T11:40:08.16456Z",
          "iopub.status.idle": "2022-09-11T11:40:08.186125Z",
          "shell.execute_reply.started": "2022-09-11T11:40:08.164519Z",
          "shell.execute_reply": "2022-09-11T11:40:08.185229Z"
        },
        "trusted": true,
        "colab": {
          "base_uri": "https://localhost:8080/"
        },
        "id": "Bg4te7_dCweS",
        "outputId": "f3e18b4e-7766-4dd7-f917-67a7e4d7806f"
      },
      "execution_count": 97,
      "outputs": [
        {
          "output_type": "stream",
          "name": "stdout",
          "text": [
            "<class 'pandas.core.frame.DataFrame'>\n",
            "Int64Index: 5912 entries, 0 to 6018\n",
            "Data columns (total 14 columns):\n",
            " #   Column             Non-Null Count  Dtype  \n",
            "---  ------             --------------  -----  \n",
            " 0   Unnamed: 0         5912 non-null   Int64  \n",
            " 1   Name               5912 non-null   string \n",
            " 2   Location           5912 non-null   string \n",
            " 3   Year               5912 non-null   Int64  \n",
            " 4   Kilometers_Driven  5912 non-null   Int64  \n",
            " 5   Fuel_Type          5912 non-null   string \n",
            " 6   Transmission       5912 non-null   string \n",
            " 7   Owner_Type         5912 non-null   string \n",
            " 8   Mileage            5912 non-null   Float64\n",
            " 9   Engine             5912 non-null   Int64  \n",
            " 10  Power              5912 non-null   Float64\n",
            " 11  Seats              5912 non-null   Int64  \n",
            " 12  Price              5912 non-null   Float64\n",
            " 13  Brand              5912 non-null   string \n",
            "dtypes: Float64(3), Int64(5), string(6)\n",
            "memory usage: 739.0 KB\n"
          ]
        }
      ]
    },
    {
      "cell_type": "code",
      "source": [
        "df.describe()"
      ],
      "metadata": {
        "execution": {
          "iopub.status.busy": "2022-09-11T11:40:08.188272Z",
          "iopub.execute_input": "2022-09-11T11:40:08.188709Z",
          "iopub.status.idle": "2022-09-11T11:40:08.257051Z",
          "shell.execute_reply.started": "2022-09-11T11:40:08.188673Z",
          "shell.execute_reply": "2022-09-11T11:40:08.25565Z"
        },
        "trusted": true,
        "colab": {
          "base_uri": "https://localhost:8080/",
          "height": 300
        },
        "id": "FYU8oMNvCweS",
        "outputId": "dbf3bb9d-f581-4b00-c659-c08427231398"
      },
      "execution_count": 98,
      "outputs": [
        {
          "output_type": "execute_result",
          "data": {
            "text/plain": [
              "        Unnamed: 0         Year  Kilometers_Driven      Mileage       Engine  \\\n",
              "count  5912.000000  5912.000000       5.912000e+03  5912.000000  5912.000000   \n",
              "mean   3012.791272  2013.450609       5.837766e+04    18.231778  1622.857070   \n",
              "std    1735.810485     3.188638       9.189848e+04     4.431628   600.877459   \n",
              "min       0.000000  1998.000000       1.710000e+02     0.000000    72.000000   \n",
              "25%    1510.750000  2012.000000       3.351275e+04    15.260000  1198.000000   \n",
              "50%    3013.500000  2014.000000       5.286250e+04    18.200000  1493.000000   \n",
              "75%    4515.250000  2016.000000       7.245375e+04    21.100000  1984.000000   \n",
              "max    6018.000000  2019.000000       6.500000e+06    33.540000  5998.000000   \n",
              "\n",
              "             Power       Seats        Price  \n",
              "count  5912.000000  5912.00000  5912.000000  \n",
              "mean    113.014026     5.28180     9.584919  \n",
              "std      53.797403     0.80269    11.233694  \n",
              "min      34.200000     2.00000     0.440000  \n",
              "25%      75.000000     5.00000     3.500000  \n",
              "50%      94.000000     5.00000     5.700000  \n",
              "75%     138.100000     5.00000    10.012500  \n",
              "max     560.000000    10.00000   160.000000  "
            ],
            "text/html": [
              "\n",
              "  <div id=\"df-e4d32fff-af56-4deb-9dd0-8c2c1a37b58f\">\n",
              "    <div class=\"colab-df-container\">\n",
              "      <div>\n",
              "<style scoped>\n",
              "    .dataframe tbody tr th:only-of-type {\n",
              "        vertical-align: middle;\n",
              "    }\n",
              "\n",
              "    .dataframe tbody tr th {\n",
              "        vertical-align: top;\n",
              "    }\n",
              "\n",
              "    .dataframe thead th {\n",
              "        text-align: right;\n",
              "    }\n",
              "</style>\n",
              "<table border=\"1\" class=\"dataframe\">\n",
              "  <thead>\n",
              "    <tr style=\"text-align: right;\">\n",
              "      <th></th>\n",
              "      <th>Unnamed: 0</th>\n",
              "      <th>Year</th>\n",
              "      <th>Kilometers_Driven</th>\n",
              "      <th>Mileage</th>\n",
              "      <th>Engine</th>\n",
              "      <th>Power</th>\n",
              "      <th>Seats</th>\n",
              "      <th>Price</th>\n",
              "    </tr>\n",
              "  </thead>\n",
              "  <tbody>\n",
              "    <tr>\n",
              "      <th>count</th>\n",
              "      <td>5912.000000</td>\n",
              "      <td>5912.000000</td>\n",
              "      <td>5.912000e+03</td>\n",
              "      <td>5912.000000</td>\n",
              "      <td>5912.000000</td>\n",
              "      <td>5912.000000</td>\n",
              "      <td>5912.00000</td>\n",
              "      <td>5912.000000</td>\n",
              "    </tr>\n",
              "    <tr>\n",
              "      <th>mean</th>\n",
              "      <td>3012.791272</td>\n",
              "      <td>2013.450609</td>\n",
              "      <td>5.837766e+04</td>\n",
              "      <td>18.231778</td>\n",
              "      <td>1622.857070</td>\n",
              "      <td>113.014026</td>\n",
              "      <td>5.28180</td>\n",
              "      <td>9.584919</td>\n",
              "    </tr>\n",
              "    <tr>\n",
              "      <th>std</th>\n",
              "      <td>1735.810485</td>\n",
              "      <td>3.188638</td>\n",
              "      <td>9.189848e+04</td>\n",
              "      <td>4.431628</td>\n",
              "      <td>600.877459</td>\n",
              "      <td>53.797403</td>\n",
              "      <td>0.80269</td>\n",
              "      <td>11.233694</td>\n",
              "    </tr>\n",
              "    <tr>\n",
              "      <th>min</th>\n",
              "      <td>0.000000</td>\n",
              "      <td>1998.000000</td>\n",
              "      <td>1.710000e+02</td>\n",
              "      <td>0.000000</td>\n",
              "      <td>72.000000</td>\n",
              "      <td>34.200000</td>\n",
              "      <td>2.00000</td>\n",
              "      <td>0.440000</td>\n",
              "    </tr>\n",
              "    <tr>\n",
              "      <th>25%</th>\n",
              "      <td>1510.750000</td>\n",
              "      <td>2012.000000</td>\n",
              "      <td>3.351275e+04</td>\n",
              "      <td>15.260000</td>\n",
              "      <td>1198.000000</td>\n",
              "      <td>75.000000</td>\n",
              "      <td>5.00000</td>\n",
              "      <td>3.500000</td>\n",
              "    </tr>\n",
              "    <tr>\n",
              "      <th>50%</th>\n",
              "      <td>3013.500000</td>\n",
              "      <td>2014.000000</td>\n",
              "      <td>5.286250e+04</td>\n",
              "      <td>18.200000</td>\n",
              "      <td>1493.000000</td>\n",
              "      <td>94.000000</td>\n",
              "      <td>5.00000</td>\n",
              "      <td>5.700000</td>\n",
              "    </tr>\n",
              "    <tr>\n",
              "      <th>75%</th>\n",
              "      <td>4515.250000</td>\n",
              "      <td>2016.000000</td>\n",
              "      <td>7.245375e+04</td>\n",
              "      <td>21.100000</td>\n",
              "      <td>1984.000000</td>\n",
              "      <td>138.100000</td>\n",
              "      <td>5.00000</td>\n",
              "      <td>10.012500</td>\n",
              "    </tr>\n",
              "    <tr>\n",
              "      <th>max</th>\n",
              "      <td>6018.000000</td>\n",
              "      <td>2019.000000</td>\n",
              "      <td>6.500000e+06</td>\n",
              "      <td>33.540000</td>\n",
              "      <td>5998.000000</td>\n",
              "      <td>560.000000</td>\n",
              "      <td>10.00000</td>\n",
              "      <td>160.000000</td>\n",
              "    </tr>\n",
              "  </tbody>\n",
              "</table>\n",
              "</div>\n",
              "      <button class=\"colab-df-convert\" onclick=\"convertToInteractive('df-e4d32fff-af56-4deb-9dd0-8c2c1a37b58f')\"\n",
              "              title=\"Convert this dataframe to an interactive table.\"\n",
              "              style=\"display:none;\">\n",
              "        \n",
              "  <svg xmlns=\"http://www.w3.org/2000/svg\" height=\"24px\"viewBox=\"0 0 24 24\"\n",
              "       width=\"24px\">\n",
              "    <path d=\"M0 0h24v24H0V0z\" fill=\"none\"/>\n",
              "    <path d=\"M18.56 5.44l.94 2.06.94-2.06 2.06-.94-2.06-.94-.94-2.06-.94 2.06-2.06.94zm-11 1L8.5 8.5l.94-2.06 2.06-.94-2.06-.94L8.5 2.5l-.94 2.06-2.06.94zm10 10l.94 2.06.94-2.06 2.06-.94-2.06-.94-.94-2.06-.94 2.06-2.06.94z\"/><path d=\"M17.41 7.96l-1.37-1.37c-.4-.4-.92-.59-1.43-.59-.52 0-1.04.2-1.43.59L10.3 9.45l-7.72 7.72c-.78.78-.78 2.05 0 2.83L4 21.41c.39.39.9.59 1.41.59.51 0 1.02-.2 1.41-.59l7.78-7.78 2.81-2.81c.8-.78.8-2.07 0-2.86zM5.41 20L4 18.59l7.72-7.72 1.47 1.35L5.41 20z\"/>\n",
              "  </svg>\n",
              "      </button>\n",
              "      \n",
              "  <style>\n",
              "    .colab-df-container {\n",
              "      display:flex;\n",
              "      flex-wrap:wrap;\n",
              "      gap: 12px;\n",
              "    }\n",
              "\n",
              "    .colab-df-convert {\n",
              "      background-color: #E8F0FE;\n",
              "      border: none;\n",
              "      border-radius: 50%;\n",
              "      cursor: pointer;\n",
              "      display: none;\n",
              "      fill: #1967D2;\n",
              "      height: 32px;\n",
              "      padding: 0 0 0 0;\n",
              "      width: 32px;\n",
              "    }\n",
              "\n",
              "    .colab-df-convert:hover {\n",
              "      background-color: #E2EBFA;\n",
              "      box-shadow: 0px 1px 2px rgba(60, 64, 67, 0.3), 0px 1px 3px 1px rgba(60, 64, 67, 0.15);\n",
              "      fill: #174EA6;\n",
              "    }\n",
              "\n",
              "    [theme=dark] .colab-df-convert {\n",
              "      background-color: #3B4455;\n",
              "      fill: #D2E3FC;\n",
              "    }\n",
              "\n",
              "    [theme=dark] .colab-df-convert:hover {\n",
              "      background-color: #434B5C;\n",
              "      box-shadow: 0px 1px 3px 1px rgba(0, 0, 0, 0.15);\n",
              "      filter: drop-shadow(0px 1px 2px rgba(0, 0, 0, 0.3));\n",
              "      fill: #FFFFFF;\n",
              "    }\n",
              "  </style>\n",
              "\n",
              "      <script>\n",
              "        const buttonEl =\n",
              "          document.querySelector('#df-e4d32fff-af56-4deb-9dd0-8c2c1a37b58f button.colab-df-convert');\n",
              "        buttonEl.style.display =\n",
              "          google.colab.kernel.accessAllowed ? 'block' : 'none';\n",
              "\n",
              "        async function convertToInteractive(key) {\n",
              "          const element = document.querySelector('#df-e4d32fff-af56-4deb-9dd0-8c2c1a37b58f');\n",
              "          const dataTable =\n",
              "            await google.colab.kernel.invokeFunction('convertToInteractive',\n",
              "                                                     [key], {});\n",
              "          if (!dataTable) return;\n",
              "\n",
              "          const docLinkHtml = 'Like what you see? Visit the ' +\n",
              "            '<a target=\"_blank\" href=https://colab.research.google.com/notebooks/data_table.ipynb>data table notebook</a>'\n",
              "            + ' to learn more about interactive tables.';\n",
              "          element.innerHTML = '';\n",
              "          dataTable['output_type'] = 'display_data';\n",
              "          await google.colab.output.renderOutput(dataTable, element);\n",
              "          const docLink = document.createElement('div');\n",
              "          docLink.innerHTML = docLinkHtml;\n",
              "          element.appendChild(docLink);\n",
              "        }\n",
              "      </script>\n",
              "    </div>\n",
              "  </div>\n",
              "  "
            ]
          },
          "metadata": {},
          "execution_count": 98
        }
      ]
    },
    {
      "cell_type": "markdown",
      "source": [
        "________________________"
      ],
      "metadata": {
        "id": "xbAEORJSCweS"
      }
    },
    {
      "cell_type": "code",
      "source": [
        "df.to_csv(\"Cleaned_Data.csv\")"
      ],
      "metadata": {
        "execution": {
          "iopub.status.busy": "2022-09-11T11:40:08.259271Z",
          "iopub.execute_input": "2022-09-11T11:40:08.259815Z",
          "iopub.status.idle": "2022-09-11T11:40:08.305433Z",
          "shell.execute_reply.started": "2022-09-11T11:40:08.259767Z",
          "shell.execute_reply": "2022-09-11T11:40:08.303725Z"
        },
        "trusted": true,
        "id": "kNppRd5tCweS"
      },
      "execution_count": 99,
      "outputs": []
    },
    {
      "cell_type": "markdown",
      "source": [
        "# 3. Data understanding "
      ],
      "metadata": {
        "id": "d62Bq_-WCweT"
      }
    },
    {
      "cell_type": "markdown",
      "source": [
        "### 3.1 Univariate analysis "
      ],
      "metadata": {
        "id": "OFuLsXi4CweT"
      }
    },
    {
      "cell_type": "code",
      "source": [
        "sns.histplot(data = df , x = 'Kilometers_Driven');"
      ],
      "metadata": {
        "execution": {
          "iopub.status.busy": "2022-09-11T11:40:08.30709Z",
          "iopub.execute_input": "2022-09-11T11:40:08.308229Z",
          "iopub.status.idle": "2022-09-11T11:40:11.679124Z",
          "shell.execute_reply.started": "2022-09-11T11:40:08.308171Z",
          "shell.execute_reply": "2022-09-11T11:40:11.677914Z"
        },
        "trusted": true,
        "colab": {
          "base_uri": "https://localhost:8080/",
          "height": 0
        },
        "id": "w8gddgxYCweT",
        "outputId": "ff4bf1c9-15f5-4ab4-9682-8a2eaffea689"
      },
      "execution_count": 100,
      "outputs": [
        {
          "output_type": "display_data",
          "data": {
            "text/plain": [
              "<Figure size 504x1008 with 1 Axes>"
            ],
            "image/png": "[encoded data removed]"
          },
          "metadata": {}
        }
      ]
    },
    {
      "cell_type": "code",
      "source": [
        "sns.histplot(data = df , x = 'Mileage');"
      ],
      "metadata": {
        "execution": {
          "iopub.status.busy": "2022-09-11T11:40:11.681281Z",
          "iopub.execute_input": "2022-09-11T11:40:11.681803Z",
          "iopub.status.idle": "2022-09-11T11:40:12.110017Z",
          "shell.execute_reply.started": "2022-09-11T11:40:11.681757Z",
          "shell.execute_reply": "2022-09-11T11:40:12.108824Z"
        },
        "trusted": true,
        "colab": {
          "base_uri": "https://localhost:8080/",
          "height": 0
        },
        "id": "O_p3C4ZSCweT",
        "outputId": "db14a3e1-7e35-4b9c-86b8-10d7a3069617"
      },
      "execution_count": 101,
      "outputs": [
        {
          "output_type": "display_data",
          "data": {
            "text/plain": [
              "<Figure size 504x1008 with 1 Axes>"
            ],
            "image/png": "[encoded data removed]"
          },
          "metadata": {}
        }
      ]
    },
    {
      "cell_type": "code",
      "source": [
        "sns.histplot(data = df , x = 'Engine');"
      ],
      "metadata": {
        "execution": {
          "iopub.status.busy": "2022-09-11T11:40:12.111787Z",
          "iopub.execute_input": "2022-09-11T11:40:12.112514Z",
          "iopub.status.idle": "2022-09-11T11:40:12.570222Z",
          "shell.execute_reply.started": "2022-09-11T11:40:12.112469Z",
          "shell.execute_reply": "2022-09-11T11:40:12.56892Z"
        },
        "trusted": true,
        "colab": {
          "base_uri": "https://localhost:8080/",
          "height": 0
        },
        "id": "H3iNElNoCweT",
        "outputId": "39e0f093-9493-4160-d6ef-146ad2533769"
      },
      "execution_count": 102,
      "outputs": [
        {
          "output_type": "display_data",
          "data": {
            "text/plain": [
              "<Figure size 504x1008 with 1 Axes>"
            ],
            "image/png": "[encoded data removed]"
          },
          "metadata": {}
        }
      ]
    },
    {
      "cell_type": "code",
      "source": [
        "sns.histplot(data = df , x = 'Power');"
      ],
      "metadata": {
        "execution": {
          "iopub.status.busy": "2022-09-11T11:40:12.572366Z",
          "iopub.execute_input": "2022-09-11T11:40:12.573178Z",
          "iopub.status.idle": "2022-09-11T11:40:13.029277Z",
          "shell.execute_reply.started": "2022-09-11T11:40:12.573128Z",
          "shell.execute_reply": "2022-09-11T11:40:13.027603Z"
        },
        "trusted": true,
        "colab": {
          "base_uri": "https://localhost:8080/",
          "height": 0
        },
        "id": "-Clpea_6CweT",
        "outputId": "7e6a15c0-47ac-4742-b9df-46d300e44b66"
      },
      "execution_count": 103,
      "outputs": [
        {
          "output_type": "display_data",
          "data": {
            "text/plain": [
              "<Figure size 504x1008 with 1 Axes>"
            ],
            "image/png": "[encoded data removed]"
          },
          "metadata": {}
        }
      ]
    },
    {
      "cell_type": "code",
      "source": [
        "sns.histplot(data = df , x = 'Price');"
      ],
      "metadata": {
        "execution": {
          "iopub.status.busy": "2022-09-11T11:40:13.031698Z",
          "iopub.execute_input": "2022-09-11T11:40:13.032081Z",
          "iopub.status.idle": "2022-09-11T11:40:14.023998Z",
          "shell.execute_reply.started": "2022-09-11T11:40:13.032049Z",
          "shell.execute_reply": "2022-09-11T11:40:14.022355Z"
        },
        "trusted": true,
        "colab": {
          "base_uri": "https://localhost:8080/",
          "height": 0
        },
        "id": "NnIxi0ODCweT",
        "outputId": "11f39458-f628-4e98-88ba-700a337f329a"
      },
      "execution_count": 104,
      "outputs": [
        {
          "output_type": "display_data",
          "data": {
            "text/plain": [
              "<Figure size 504x1008 with 1 Axes>"
            ],
            "image/png": "[encoded data removed]"
          },
          "metadata": {}
        }
      ]
    },
    {
      "cell_type": "code",
      "source": [
        "numerical_cols = ['Kilometers_Driven' , 'Mileage' , 'Engine' , 'Power','Price']"
      ],
      "metadata": {
        "execution": {
          "iopub.status.busy": "2022-09-11T11:40:14.026089Z",
          "iopub.execute_input": "2022-09-11T11:40:14.027457Z",
          "iopub.status.idle": "2022-09-11T11:40:14.033963Z",
          "shell.execute_reply.started": "2022-09-11T11:40:14.027409Z",
          "shell.execute_reply": "2022-09-11T11:40:14.031814Z"
        },
        "trusted": true,
        "id": "5RDiJv7uCweU"
      },
      "execution_count": 105,
      "outputs": []
    },
    {
      "cell_type": "code",
      "source": [
        "pip install datasist"
      ],
      "metadata": {
        "execution": {
          "iopub.status.busy": "2022-09-11T11:40:14.036419Z",
          "iopub.execute_input": "2022-09-11T11:40:14.037358Z",
          "iopub.status.idle": "2022-09-11T11:40:26.465522Z",
          "shell.execute_reply.started": "2022-09-11T11:40:14.037308Z",
          "shell.execute_reply": "2022-09-11T11:40:26.463373Z"
        },
        "trusted": true,
        "colab": {
          "base_uri": "https://localhost:8080/"
        },
        "id": "xk5vTwdJCweU",
        "outputId": "de0c1c24-7616-454f-9ba3-169bbf2e6f1f"
      },
      "execution_count": 106,
      "outputs": [
        {
          "output_type": "stream",
          "name": "stdout",
          "text": [
            "Looking in indexes: https://pypi.org/simple, https://us-python.pkg.dev/colab-wheels/public/simple/\n",
            "Requirement already satisfied: datasist in /usr/local/lib/python3.7/dist-packages (1.5.3)\n",
            "Requirement already satisfied: jupyter in /usr/local/lib/python3.7/dist-packages (from datasist) (1.0.0)\n",
            "Requirement already satisfied: seaborn in /usr/local/lib/python3.7/dist-packages (from datasist) (0.11.2)\n",
            "Requirement already satisfied: scikit-learn in /usr/local/lib/python3.7/dist-packages (from datasist) (1.0.2)\n",
            "Requirement already satisfied: matplotlib in /usr/local/lib/python3.7/dist-packages (from datasist) (3.2.2)\n",
            "Requirement already satisfied: numpy in /usr/local/lib/python3.7/dist-packages (from datasist) (1.21.6)\n",
            "Requirement already satisfied: nltk in /usr/local/lib/python3.7/dist-packages (from datasist) (3.7)\n",
            "Requirement already satisfied: pandas in /usr/local/lib/python3.7/dist-packages (from datasist) (1.3.5)\n",
            "Requirement already satisfied: Joblib in /usr/local/lib/python3.7/dist-packages (from datasist) (1.2.0)\n",
            "Requirement already satisfied: qtconsole in /usr/local/lib/python3.7/dist-packages (from jupyter->datasist) (5.3.2)\n",
            "Requirement already satisfied: nbconvert in /usr/local/lib/python3.7/dist-packages (from jupyter->datasist) (5.6.1)\n",
            "Requirement already satisfied: ipykernel in /usr/local/lib/python3.7/dist-packages (from jupyter->datasist) (5.3.4)\n",
            "Requirement already satisfied: jupyter-console in /usr/local/lib/python3.7/dist-packages (from jupyter->datasist) (6.1.0)\n",
            "Requirement already satisfied: notebook in /usr/local/lib/python3.7/dist-packages (from jupyter->datasist) (5.5.0)\n",
            "Requirement already satisfied: ipywidgets in /usr/local/lib/python3.7/dist-packages (from jupyter->datasist) (7.7.1)\n",
            "Requirement already satisfied: jupyter-client in /usr/local/lib/python3.7/dist-packages (from ipykernel->jupyter->datasist) (6.1.12)\n",
            "Requirement already satisfied: ipython>=5.0.0 in /usr/local/lib/python3.7/dist-packages (from ipykernel->jupyter->datasist) (7.9.0)\n",
            "Requirement already satisfied: traitlets>=4.1.0 in /usr/local/lib/python3.7/dist-packages (from ipykernel->jupyter->datasist) (5.1.1)\n",
            "Requirement already satisfied: tornado>=4.2 in /usr/local/lib/python3.7/dist-packages (from ipykernel->jupyter->datasist) (5.1.1)\n",
            "Requirement already satisfied: setuptools>=18.5 in /usr/local/lib/python3.7/dist-packages (from ipython>=5.0.0->ipykernel->jupyter->datasist) (57.4.0)\n",
            "Requirement already satisfied: prompt-toolkit<2.1.0,>=2.0.0 in /usr/local/lib/python3.7/dist-packages (from ipython>=5.0.0->ipykernel->jupyter->datasist) (2.0.10)\n",
            "Requirement already satisfied: decorator in /usr/local/lib/python3.7/dist-packages (from ipython>=5.0.0->ipykernel->jupyter->datasist) (4.4.2)\n",
            "Requirement already satisfied: pickleshare in /usr/local/lib/python3.7/dist-packages (from ipython>=5.0.0->ipykernel->jupyter->datasist) (0.7.5)\n",
            "Requirement already satisfied: pygments in /usr/local/lib/python3.7/dist-packages (from ipython>=5.0.0->ipykernel->jupyter->datasist) (2.6.1)\n",
            "Requirement already satisfied: jedi>=0.10 in /usr/local/lib/python3.7/dist-packages (from ipython>=5.0.0->ipykernel->jupyter->datasist) (0.18.1)\n",
            "Requirement already satisfied: backcall in /usr/local/lib/python3.7/dist-packages (from ipython>=5.0.0->ipykernel->jupyter->datasist) (0.2.0)\n",
            "Requirement already satisfied: pexpect in /usr/local/lib/python3.7/dist-packages (from ipython>=5.0.0->ipykernel->jupyter->datasist) (4.8.0)\n",
            "Requirement already satisfied: parso<0.9.0,>=0.8.0 in /usr/local/lib/python3.7/dist-packages (from jedi>=0.10->ipython>=5.0.0->ipykernel->jupyter->datasist) (0.8.3)\n",
            "Requirement already satisfied: six>=1.9.0 in /usr/local/lib/python3.7/dist-packages (from prompt-toolkit<2.1.0,>=2.0.0->ipython>=5.0.0->ipykernel->jupyter->datasist) (1.15.0)\n",
            "Requirement already satisfied: wcwidth in /usr/local/lib/python3.7/dist-packages (from prompt-toolkit<2.1.0,>=2.0.0->ipython>=5.0.0->ipykernel->jupyter->datasist) (0.2.5)\n",
            "Requirement already satisfied: ipython-genutils~=0.2.0 in /usr/local/lib/python3.7/dist-packages (from ipywidgets->jupyter->datasist) (0.2.0)\n",
            "Requirement already satisfied: widgetsnbextension~=3.6.0 in /usr/local/lib/python3.7/dist-packages (from ipywidgets->jupyter->datasist) (3.6.1)\n",
            "Requirement already satisfied: jupyterlab-widgets>=1.0.0 in /usr/local/lib/python3.7/dist-packages (from ipywidgets->jupyter->datasist) (3.0.3)\n",
            "Requirement already satisfied: jinja2 in /usr/local/lib/python3.7/dist-packages (from notebook->jupyter->datasist) (2.11.3)\n",
            "Requirement already satisfied: Send2Trash in /usr/local/lib/python3.7/dist-packages (from notebook->jupyter->datasist) (1.8.0)\n",
            "Requirement already satisfied: nbformat in /usr/local/lib/python3.7/dist-packages (from notebook->jupyter->datasist) (5.7.0)\n",
            "Requirement already satisfied: pyzmq>=17 in /usr/local/lib/python3.7/dist-packages (from notebook->jupyter->datasist) (23.2.1)\n",
            "Requirement already satisfied: jupyter-core>=4.4.0 in /usr/local/lib/python3.7/dist-packages (from notebook->jupyter->datasist) (4.11.2)\n",
            "Requirement already satisfied: terminado>=0.8.1 in /usr/local/lib/python3.7/dist-packages (from notebook->jupyter->datasist) (0.13.3)\n",
            "Requirement already satisfied: python-dateutil>=2.1 in /usr/local/lib/python3.7/dist-packages (from jupyter-client->ipykernel->jupyter->datasist) (2.8.2)\n",
            "Requirement already satisfied: ptyprocess in /usr/local/lib/python3.7/dist-packages (from terminado>=0.8.1->notebook->jupyter->datasist) (0.7.0)\n",
            "Requirement already satisfied: MarkupSafe>=0.23 in /usr/local/lib/python3.7/dist-packages (from jinja2->notebook->jupyter->datasist) (2.0.1)\n",
            "Requirement already satisfied: pyparsing!=2.0.4,!=2.1.2,!=2.1.6,>=2.0.1 in /usr/local/lib/python3.7/dist-packages (from matplotlib->datasist) (3.0.9)\n",
            "Requirement already satisfied: cycler>=0.10 in /usr/local/lib/python3.7/dist-packages (from matplotlib->datasist) (0.11.0)\n",
            "Requirement already satisfied: kiwisolver>=1.0.1 in /usr/local/lib/python3.7/dist-packages (from matplotlib->datasist) (1.4.4)\n",
            "Requirement already satisfied: typing-extensions in /usr/local/lib/python3.7/dist-packages (from kiwisolver>=1.0.1->matplotlib->datasist) (4.1.1)\n",
            "Requirement already satisfied: defusedxml in /usr/local/lib/python3.7/dist-packages (from nbconvert->jupyter->datasist) (0.7.1)\n",
            "Requirement already satisfied: mistune<2,>=0.8.1 in /usr/local/lib/python3.7/dist-packages (from nbconvert->jupyter->datasist) (0.8.4)\n",
            "Requirement already satisfied: bleach in /usr/local/lib/python3.7/dist-packages (from nbconvert->jupyter->datasist) (5.0.1)\n",
            "Requirement already satisfied: pandocfilters>=1.4.1 in /usr/local/lib/python3.7/dist-packages (from nbconvert->jupyter->datasist) (1.5.0)\n",
            "Requirement already satisfied: testpath in /usr/local/lib/python3.7/dist-packages (from nbconvert->jupyter->datasist) (0.6.0)\n",
            "Requirement already satisfied: entrypoints>=0.2.2 in /usr/local/lib/python3.7/dist-packages (from nbconvert->jupyter->datasist) (0.4)\n",
            "Requirement already satisfied: importlib-metadata>=3.6 in /usr/local/lib/python3.7/dist-packages (from nbformat->notebook->jupyter->datasist) (4.13.0)\n",
            "Requirement already satisfied: jsonschema>=2.6 in /usr/local/lib/python3.7/dist-packages (from nbformat->notebook->jupyter->datasist) (4.3.3)\n",
            "Requirement already satisfied: fastjsonschema in /usr/local/lib/python3.7/dist-packages (from nbformat->notebook->jupyter->datasist) (2.16.2)\n",
            "Requirement already satisfied: zipp>=0.5 in /usr/local/lib/python3.7/dist-packages (from importlib-metadata>=3.6->nbformat->notebook->jupyter->datasist) (3.10.0)\n",
            "Requirement already satisfied: attrs>=17.4.0 in /usr/local/lib/python3.7/dist-packages (from jsonschema>=2.6->nbformat->notebook->jupyter->datasist) (22.1.0)\n",
            "Requirement already satisfied: pyrsistent!=0.17.0,!=0.17.1,!=0.17.2,>=0.14.0 in /usr/local/lib/python3.7/dist-packages (from jsonschema>=2.6->nbformat->notebook->jupyter->datasist) (0.18.1)\n",
            "Requirement already satisfied: importlib-resources>=1.4.0 in /usr/local/lib/python3.7/dist-packages (from jsonschema>=2.6->nbformat->notebook->jupyter->datasist) (5.10.0)\n",
            "Requirement already satisfied: webencodings in /usr/local/lib/python3.7/dist-packages (from bleach->nbconvert->jupyter->datasist) (0.5.1)\n",
            "Requirement already satisfied: tqdm in /usr/local/lib/python3.7/dist-packages (from nltk->datasist) (4.64.1)\n",
            "Requirement already satisfied: regex>=2021.8.3 in /usr/local/lib/python3.7/dist-packages (from nltk->datasist) (2022.6.2)\n",
            "Requirement already satisfied: click in /usr/local/lib/python3.7/dist-packages (from nltk->datasist) (7.1.2)\n",
            "Requirement already satisfied: pytz>=2017.3 in /usr/local/lib/python3.7/dist-packages (from pandas->datasist) (2022.5)\n",
            "Requirement already satisfied: qtpy>=2.0.1 in /usr/local/lib/python3.7/dist-packages (from qtconsole->jupyter->datasist) (2.2.1)\n",
            "Requirement already satisfied: packaging in /usr/local/lib/python3.7/dist-packages (from qtpy>=2.0.1->qtconsole->jupyter->datasist) (21.3)\n",
            "Requirement already satisfied: threadpoolctl>=2.0.0 in /usr/local/lib/python3.7/dist-packages (from scikit-learn->datasist) (3.1.0)\n",
            "Requirement already satisfied: scipy>=1.1.0 in /usr/local/lib/python3.7/dist-packages (from scikit-learn->datasist) (1.7.3)\n"
          ]
        }
      ]
    },
    {
      "cell_type": "code",
      "source": [
        "df_nums = df.copy()\n",
        "from datasist.structdata import detect_outliers \n",
        "\n",
        "outliears = detect_outliers(df_nums[numerical_cols],0,df_nums[numerical_cols].columns)\n",
        "df_nums.drop(outliears,inplace=True)\n",
        "\n",
        "# outliears = detect_outliers(df[['Price']],0,df[['Price']].columns)\n",
        "# df[['Price']].drop(outliears,inplace=True)"
      ],
      "metadata": {
        "execution": {
          "iopub.status.busy": "2022-09-11T11:40:26.468028Z",
          "iopub.execute_input": "2022-09-11T11:40:26.46934Z",
          "iopub.status.idle": "2022-09-11T11:40:26.535358Z",
          "shell.execute_reply.started": "2022-09-11T11:40:26.469248Z",
          "shell.execute_reply": "2022-09-11T11:40:26.53404Z"
        },
        "trusted": true,
        "id": "tK8ZsX2iCweU"
      },
      "execution_count": 107,
      "outputs": []
    },
    {
      "cell_type": "code",
      "source": [
        "sns.histplot(data = df_nums , x = 'Kilometers_Driven');"
      ],
      "metadata": {
        "execution": {
          "iopub.status.busy": "2022-09-11T11:40:26.53744Z",
          "iopub.execute_input": "2022-09-11T11:40:26.538397Z",
          "iopub.status.idle": "2022-09-11T11:40:26.961461Z",
          "shell.execute_reply.started": "2022-09-11T11:40:26.538357Z",
          "shell.execute_reply": "2022-09-11T11:40:26.959817Z"
        },
        "trusted": true,
        "colab": {
          "base_uri": "https://localhost:8080/",
          "height": 0
        },
        "id": "UrrZVKfKCweU",
        "outputId": "21ac202e-b405-428b-e279-d009ea306f3d"
      },
      "execution_count": 108,
      "outputs": [
        {
          "output_type": "display_data",
          "data": {
            "text/plain": [
              "<Figure size 504x1008 with 1 Axes>"
            ],
            "image/png": "[encoded data removed]"
          },
          "metadata": {}
        }
      ]
    },
    {
      "cell_type": "code",
      "source": [
        "sns.histplot(data = df_nums , x = 'Mileage');"
      ],
      "metadata": {
        "execution": {
          "iopub.status.busy": "2022-09-11T11:40:26.963471Z",
          "iopub.execute_input": "2022-09-11T11:40:26.964013Z",
          "iopub.status.idle": "2022-09-11T11:40:27.38024Z",
          "shell.execute_reply.started": "2022-09-11T11:40:26.963973Z",
          "shell.execute_reply": "2022-09-11T11:40:27.378519Z"
        },
        "trusted": true,
        "colab": {
          "base_uri": "https://localhost:8080/",
          "height": 0
        },
        "id": "ed51uVBaCweU",
        "outputId": "7e97aa3f-3a90-402f-88a9-4e38a93b8632"
      },
      "execution_count": 109,
      "outputs": [
        {
          "output_type": "display_data",
          "data": {
            "text/plain": [
              "<Figure size 504x1008 with 1 Axes>"
            ],
            "image/png": "[encoded data removed]"
          },
          "metadata": {}
        }
      ]
    },
    {
      "cell_type": "code",
      "source": [
        "sns.histplot(data = df_nums , x = 'Engine');"
      ],
      "metadata": {
        "execution": {
          "iopub.status.busy": "2022-09-11T11:40:27.388309Z",
          "iopub.execute_input": "2022-09-11T11:40:27.389203Z",
          "iopub.status.idle": "2022-09-11T11:40:27.835917Z",
          "shell.execute_reply.started": "2022-09-11T11:40:27.389131Z",
          "shell.execute_reply": "2022-09-11T11:40:27.834303Z"
        },
        "trusted": true,
        "colab": {
          "base_uri": "https://localhost:8080/",
          "height": 0
        },
        "id": "GTETDYrFCweV",
        "outputId": "f51ddfb7-a1e2-4f64-df9b-054cd8996d3f"
      },
      "execution_count": 110,
      "outputs": [
        {
          "output_type": "display_data",
          "data": {
            "text/plain": [
              "<Figure size 504x1008 with 1 Axes>"
            ],
            "image/png": "[encoded data removed]"
          },
          "metadata": {}
        }
      ]
    },
    {
      "cell_type": "code",
      "source": [
        "sns.histplot(data = df_nums , x = 'Power');"
      ],
      "metadata": {
        "execution": {
          "iopub.status.busy": "2022-09-11T11:40:27.838141Z",
          "iopub.execute_input": "2022-09-11T11:40:27.839507Z",
          "iopub.status.idle": "2022-09-11T11:40:28.274195Z",
          "shell.execute_reply.started": "2022-09-11T11:40:27.83946Z",
          "shell.execute_reply": "2022-09-11T11:40:28.272631Z"
        },
        "trusted": true,
        "colab": {
          "base_uri": "https://localhost:8080/",
          "height": 0
        },
        "id": "NiMd9iM6CweV",
        "outputId": "eee7827f-826f-464c-c8d1-53ffd0377678"
      },
      "execution_count": 111,
      "outputs": [
        {
          "output_type": "display_data",
          "data": {
            "text/plain": [
              "<Figure size 504x1008 with 1 Axes>"
            ],
            "image/png": "[encoded data removed]"
          },
          "metadata": {}
        }
      ]
    },
    {
      "cell_type": "code",
      "source": [
        "sns.histplot(data = df_nums , x = 'Price');"
      ],
      "metadata": {
        "execution": {
          "iopub.status.busy": "2022-09-11T11:40:28.276146Z",
          "iopub.execute_input": "2022-09-11T11:40:28.277352Z",
          "iopub.status.idle": "2022-09-11T11:40:28.725385Z",
          "shell.execute_reply.started": "2022-09-11T11:40:28.277272Z",
          "shell.execute_reply": "2022-09-11T11:40:28.724116Z"
        },
        "trusted": true,
        "colab": {
          "base_uri": "https://localhost:8080/",
          "height": 0
        },
        "id": "2i26t9LaCweV",
        "outputId": "df43af89-02c8-498a-e1bc-a738df23fbd4"
      },
      "execution_count": 112,
      "outputs": [
        {
          "output_type": "display_data",
          "data": {
            "text/plain": [
              "<Figure size 504x1008 with 1 Axes>"
            ],
            "image/png": "[encoded data removed]"
          },
          "metadata": {}
        }
      ]
    },
    {
      "cell_type": "markdown",
      "source": [
        "## Data summery : \n",
        "    - Numerical columns follow the gussian distribution, but have Outliers \n",
        "    (My desicion is not to remove it,because it will ne useful)\n",
        "    - The countrt with the most sales spread is `Mumbai` and the least is `Ahmedabad`\n",
        "    - Most of cars is form 2010 and 2015"
      ],
      "metadata": {
        "id": "T-Nf1JEpCweV"
      }
    },
    {
      "cell_type": "code",
      "source": [
        "df"
      ],
      "metadata": {
        "execution": {
          "iopub.status.busy": "2022-09-11T11:40:28.727133Z",
          "iopub.execute_input": "2022-09-11T11:40:28.727539Z",
          "iopub.status.idle": "2022-09-11T11:40:28.766025Z",
          "shell.execute_reply.started": "2022-09-11T11:40:28.727497Z",
          "shell.execute_reply": "2022-09-11T11:40:28.764506Z"
        },
        "trusted": true,
        "colab": {
          "base_uri": "https://localhost:8080/",
          "height": 424
        },
        "id": "4vqQwo1RCweV",
        "outputId": "571eb5f2-6eb6-4f20-b831-7066eb043825"
      },
      "execution_count": 113,
      "outputs": [
        {
          "output_type": "execute_result",
          "data": {
            "text/plain": [
              "      Unnamed: 0            Name    Location  Year  Kilometers_Driven  \\\n",
              "0              0    Maruti Wagon      Mumbai  2010              72000   \n",
              "1              1   Hyundai Creta        Pune  2015              41000   \n",
              "2              2      Honda Jazz     Chennai  2011              46000   \n",
              "3              3   Maruti Ertiga     Chennai  2012              87000   \n",
              "4              4         Audi A4  Coimbatore  2013              40670   \n",
              "...          ...             ...         ...   ...                ...   \n",
              "6014        6014    Maruti Swift       Delhi  2014              27365   \n",
              "6015        6015   Hyundai Xcent      Jaipur  2015             100000   \n",
              "6016        6016   Mahindra Xylo      Jaipur  2012              55000   \n",
              "6017        6017    Maruti Wagon     Kolkata  2013              46000   \n",
              "6018        6018  Chevrolet Beat   Hyderabad  2011              47000   \n",
              "\n",
              "     Fuel_Type Transmission Owner_Type  Mileage  Engine  Power  Seats  Price  \\\n",
              "0          CNG       Manual      First     26.6     998  58.16      5   1.75   \n",
              "1       Diesel       Manual      First    19.67    1582  126.2      5   12.5   \n",
              "2       Petrol       Manual      First     18.2    1199   88.7      5    4.5   \n",
              "3       Diesel       Manual      First    20.77    1248  88.76      7    6.0   \n",
              "4       Diesel    Automatic     Second     15.2    1968  140.8      5  17.74   \n",
              "...        ...          ...        ...      ...     ...    ...    ...    ...   \n",
              "6014    Diesel       Manual      First     28.4    1248   74.0      5   4.75   \n",
              "6015    Diesel       Manual      First     24.4    1120   71.0      5    4.0   \n",
              "6016    Diesel       Manual     Second     14.0    2498  112.0      8    2.9   \n",
              "6017    Petrol       Manual      First     18.9     998   67.1      5   2.65   \n",
              "6018    Diesel       Manual      First    25.44     936   57.6      5    2.5   \n",
              "\n",
              "          Brand  \n",
              "0        Maruti  \n",
              "1       Hyundai  \n",
              "2         Honda  \n",
              "3        Maruti  \n",
              "4          Audi  \n",
              "...         ...  \n",
              "6014     Maruti  \n",
              "6015    Hyundai  \n",
              "6016   Mahindra  \n",
              "6017     Maruti  \n",
              "6018  Chevrolet  \n",
              "\n",
              "[5912 rows x 14 columns]"
            ],
            "text/html": [
              "\n",
              "  <div id=\"df-2d4aed4b-d947-46bb-a9e7-2d000c3b530a\">\n",
              "    <div class=\"colab-df-container\">\n",
              "      <div>\n",
              "<style scoped>\n",
              "    .dataframe tbody tr th:only-of-type {\n",
              "        vertical-align: middle;\n",
              "    }\n",
              "\n",
              "    .dataframe tbody tr th {\n",
              "        vertical-align: top;\n",
              "    }\n",
              "\n",
              "    .dataframe thead th {\n",
              "        text-align: right;\n",
              "    }\n",
              "</style>\n",
              "<table border=\"1\" class=\"dataframe\">\n",
              "  <thead>\n",
              "    <tr style=\"text-align: right;\">\n",
              "      <th></th>\n",
              "      <th>Unnamed: 0</th>\n",
              "      <th>Name</th>\n",
              "      <th>Location</th>\n",
              "      <th>Year</th>\n",
              "      <th>Kilometers_Driven</th>\n",
              "      <th>Fuel_Type</th>\n",
              "      <th>Transmission</th>\n",
              "      <th>Owner_Type</th>\n",
              "      <th>Mileage</th>\n",
              "      <th>Engine</th>\n",
              "      <th>Power</th>\n",
              "      <th>Seats</th>\n",
              "      <th>Price</th>\n",
              "      <th>Brand</th>\n",
              "    </tr>\n",
              "  </thead>\n",
              "  <tbody>\n",
              "    <tr>\n",
              "      <th>0</th>\n",
              "      <td>0</td>\n",
              "      <td>Maruti Wagon</td>\n",
              "      <td>Mumbai</td>\n",
              "      <td>2010</td>\n",
              "      <td>72000</td>\n",
              "      <td>CNG</td>\n",
              "      <td>Manual</td>\n",
              "      <td>First</td>\n",
              "      <td>26.6</td>\n",
              "      <td>998</td>\n",
              "      <td>58.16</td>\n",
              "      <td>5</td>\n",
              "      <td>1.75</td>\n",
              "      <td>Maruti</td>\n",
              "    </tr>\n",
              "    <tr>\n",
              "      <th>1</th>\n",
              "      <td>1</td>\n",
              "      <td>Hyundai Creta</td>\n",
              "      <td>Pune</td>\n",
              "      <td>2015</td>\n",
              "      <td>41000</td>\n",
              "      <td>Diesel</td>\n",
              "      <td>Manual</td>\n",
              "      <td>First</td>\n",
              "      <td>19.67</td>\n",
              "      <td>1582</td>\n",
              "      <td>126.2</td>\n",
              "      <td>5</td>\n",
              "      <td>12.5</td>\n",
              "      <td>Hyundai</td>\n",
              "    </tr>\n",
              "    <tr>\n",
              "      <th>2</th>\n",
              "      <td>2</td>\n",
              "      <td>Honda Jazz</td>\n",
              "      <td>Chennai</td>\n",
              "      <td>2011</td>\n",
              "      <td>46000</td>\n",
              "      <td>Petrol</td>\n",
              "      <td>Manual</td>\n",
              "      <td>First</td>\n",
              "      <td>18.2</td>\n",
              "      <td>1199</td>\n",
              "      <td>88.7</td>\n",
              "      <td>5</td>\n",
              "      <td>4.5</td>\n",
              "      <td>Honda</td>\n",
              "    </tr>\n",
              "    <tr>\n",
              "      <th>3</th>\n",
              "      <td>3</td>\n",
              "      <td>Maruti Ertiga</td>\n",
              "      <td>Chennai</td>\n",
              "      <td>2012</td>\n",
              "      <td>87000</td>\n",
              "      <td>Diesel</td>\n",
              "      <td>Manual</td>\n",
              "      <td>First</td>\n",
              "      <td>20.77</td>\n",
              "      <td>1248</td>\n",
              "      <td>88.76</td>\n",
              "      <td>7</td>\n",
              "      <td>6.0</td>\n",
              "      <td>Maruti</td>\n",
              "    </tr>\n",
              "    <tr>\n",
              "      <th>4</th>\n",
              "      <td>4</td>\n",
              "      <td>Audi A4</td>\n",
              "      <td>Coimbatore</td>\n",
              "      <td>2013</td>\n",
              "      <td>40670</td>\n",
              "      <td>Diesel</td>\n",
              "      <td>Automatic</td>\n",
              "      <td>Second</td>\n",
              "      <td>15.2</td>\n",
              "      <td>1968</td>\n",
              "      <td>140.8</td>\n",
              "      <td>5</td>\n",
              "      <td>17.74</td>\n",
              "      <td>Audi</td>\n",
              "    </tr>\n",
              "    <tr>\n",
              "      <th>...</th>\n",
              "      <td>...</td>\n",
              "      <td>...</td>\n",
              "      <td>...</td>\n",
              "      <td>...</td>\n",
              "      <td>...</td>\n",
              "      <td>...</td>\n",
              "      <td>...</td>\n",
              "      <td>...</td>\n",
              "      <td>...</td>\n",
              "      <td>...</td>\n",
              "      <td>...</td>\n",
              "      <td>...</td>\n",
              "      <td>...</td>\n",
              "      <td>...</td>\n",
              "    </tr>\n",
              "    <tr>\n",
              "      <th>6014</th>\n",
              "      <td>6014</td>\n",
              "      <td>Maruti Swift</td>\n",
              "      <td>Delhi</td>\n",
              "      <td>2014</td>\n",
              "      <td>27365</td>\n",
              "      <td>Diesel</td>\n",
              "      <td>Manual</td>\n",
              "      <td>First</td>\n",
              "      <td>28.4</td>\n",
              "      <td>1248</td>\n",
              "      <td>74.0</td>\n",
              "      <td>5</td>\n",
              "      <td>4.75</td>\n",
              "      <td>Maruti</td>\n",
              "    </tr>\n",
              "    <tr>\n",
              "      <th>6015</th>\n",
              "      <td>6015</td>\n",
              "      <td>Hyundai Xcent</td>\n",
              "      <td>Jaipur</td>\n",
              "      <td>2015</td>\n",
              "      <td>100000</td>\n",
              "      <td>Diesel</td>\n",
              "      <td>Manual</td>\n",
              "      <td>First</td>\n",
              "      <td>24.4</td>\n",
              "      <td>1120</td>\n",
              "      <td>71.0</td>\n",
              "      <td>5</td>\n",
              "      <td>4.0</td>\n",
              "      <td>Hyundai</td>\n",
              "    </tr>\n",
              "    <tr>\n",
              "      <th>6016</th>\n",
              "      <td>6016</td>\n",
              "      <td>Mahindra Xylo</td>\n",
              "      <td>Jaipur</td>\n",
              "      <td>2012</td>\n",
              "      <td>55000</td>\n",
              "      <td>Diesel</td>\n",
              "      <td>Manual</td>\n",
              "      <td>Second</td>\n",
              "      <td>14.0</td>\n",
              "      <td>2498</td>\n",
              "      <td>112.0</td>\n",
              "      <td>8</td>\n",
              "      <td>2.9</td>\n",
              "      <td>Mahindra</td>\n",
              "    </tr>\n",
              "    <tr>\n",
              "      <th>6017</th>\n",
              "      <td>6017</td>\n",
              "      <td>Maruti Wagon</td>\n",
              "      <td>Kolkata</td>\n",
              "      <td>2013</td>\n",
              "      <td>46000</td>\n",
              "      <td>Petrol</td>\n",
              "      <td>Manual</td>\n",
              "      <td>First</td>\n",
              "      <td>18.9</td>\n",
              "      <td>998</td>\n",
              "      <td>67.1</td>\n",
              "      <td>5</td>\n",
              "      <td>2.65</td>\n",
              "      <td>Maruti</td>\n",
              "    </tr>\n",
              "    <tr>\n",
              "      <th>6018</th>\n",
              "      <td>6018</td>\n",
              "      <td>Chevrolet Beat</td>\n",
              "      <td>Hyderabad</td>\n",
              "      <td>2011</td>\n",
              "      <td>47000</td>\n",
              "      <td>Diesel</td>\n",
              "      <td>Manual</td>\n",
              "      <td>First</td>\n",
              "      <td>25.44</td>\n",
              "      <td>936</td>\n",
              "      <td>57.6</td>\n",
              "      <td>5</td>\n",
              "      <td>2.5</td>\n",
              "      <td>Chevrolet</td>\n",
              "    </tr>\n",
              "  </tbody>\n",
              "</table>\n",
              "<p>5912 rows × 14 columns</p>\n",
              "</div>\n",
              "      <button class=\"colab-df-convert\" onclick=\"convertToInteractive('df-2d4aed4b-d947-46bb-a9e7-2d000c3b530a')\"\n",
              "              title=\"Convert this dataframe to an interactive table.\"\n",
              "              style=\"display:none;\">\n",
              "        \n",
              "  <svg xmlns=\"http://www.w3.org/2000/svg\" height=\"24px\"viewBox=\"0 0 24 24\"\n",
              "       width=\"24px\">\n",
              "    <path d=\"M0 0h24v24H0V0z\" fill=\"none\"/>\n",
              "    <path d=\"M18.56 5.44l.94 2.06.94-2.06 2.06-.94-2.06-.94-.94-2.06-.94 2.06-2.06.94zm-11 1L8.5 8.5l.94-2.06 2.06-.94-2.06-.94L8.5 2.5l-.94 2.06-2.06.94zm10 10l.94 2.06.94-2.06 2.06-.94-2.06-.94-.94-2.06-.94 2.06-2.06.94z\"/><path d=\"M17.41 7.96l-1.37-1.37c-.4-.4-.92-.59-1.43-.59-.52 0-1.04.2-1.43.59L10.3 9.45l-7.72 7.72c-.78.78-.78 2.05 0 2.83L4 21.41c.39.39.9.59 1.41.59.51 0 1.02-.2 1.41-.59l7.78-7.78 2.81-2.81c.8-.78.8-2.07 0-2.86zM5.41 20L4 18.59l7.72-7.72 1.47 1.35L5.41 20z\"/>\n",
              "  </svg>\n",
              "      </button>\n",
              "      \n",
              "  <style>\n",
              "    .colab-df-container {\n",
              "      display:flex;\n",
              "      flex-wrap:wrap;\n",
              "      gap: 12px;\n",
              "    }\n",
              "\n",
              "    .colab-df-convert {\n",
              "      background-color: #E8F0FE;\n",
              "      border: none;\n",
              "      border-radius: 50%;\n",
              "      cursor: pointer;\n",
              "      display: none;\n",
              "      fill: #1967D2;\n",
              "      height: 32px;\n",
              "      padding: 0 0 0 0;\n",
              "      width: 32px;\n",
              "    }\n",
              "\n",
              "    .colab-df-convert:hover {\n",
              "      background-color: #E2EBFA;\n",
              "      box-shadow: 0px 1px 2px rgba(60, 64, 67, 0.3), 0px 1px 3px 1px rgba(60, 64, 67, 0.15);\n",
              "      fill: #174EA6;\n",
              "    }\n",
              "\n",
              "    [theme=dark] .colab-df-convert {\n",
              "      background-color: #3B4455;\n",
              "      fill: #D2E3FC;\n",
              "    }\n",
              "\n",
              "    [theme=dark] .colab-df-convert:hover {\n",
              "      background-color: #434B5C;\n",
              "      box-shadow: 0px 1px 3px 1px rgba(0, 0, 0, 0.15);\n",
              "      filter: drop-shadow(0px 1px 2px rgba(0, 0, 0, 0.3));\n",
              "      fill: #FFFFFF;\n",
              "    }\n",
              "  </style>\n",
              "\n",
              "      <script>\n",
              "        const buttonEl =\n",
              "          document.querySelector('#df-2d4aed4b-d947-46bb-a9e7-2d000c3b530a button.colab-df-convert');\n",
              "        buttonEl.style.display =\n",
              "          google.colab.kernel.accessAllowed ? 'block' : 'none';\n",
              "\n",
              "        async function convertToInteractive(key) {\n",
              "          const element = document.querySelector('#df-2d4aed4b-d947-46bb-a9e7-2d000c3b530a');\n",
              "          const dataTable =\n",
              "            await google.colab.kernel.invokeFunction('convertToInteractive',\n",
              "                                                     [key], {});\n",
              "          if (!dataTable) return;\n",
              "\n",
              "          const docLinkHtml = 'Like what you see? Visit the ' +\n",
              "            '<a target=\"_blank\" href=https://colab.research.google.com/notebooks/data_table.ipynb>data table notebook</a>'\n",
              "            + ' to learn more about interactive tables.';\n",
              "          element.innerHTML = '';\n",
              "          dataTable['output_type'] = 'display_data';\n",
              "          await google.colab.output.renderOutput(dataTable, element);\n",
              "          const docLink = document.createElement('div');\n",
              "          docLink.innerHTML = docLinkHtml;\n",
              "          element.appendChild(docLink);\n",
              "        }\n",
              "      </script>\n",
              "    </div>\n",
              "  </div>\n",
              "  "
            ]
          },
          "metadata": {},
          "execution_count": 113
        }
      ]
    },
    {
      "cell_type": "markdown",
      "source": [
        "________________________"
      ],
      "metadata": {
        "id": "z7v2AWD3CweV"
      }
    },
    {
      "cell_type": "markdown",
      "source": [
        "# 4. Data pre-processing"
      ],
      "metadata": {
        "id": "1LnrQTjWCweW"
      }
    },
    {
      "cell_type": "markdown",
      "source": [
        "### 4.1 Data transformation "
      ],
      "metadata": {
        "id": "0956iUQUCweW"
      }
    },
    {
      "cell_type": "markdown",
      "source": [
        "#### 4.1.1 Catogerical transformation"
      ],
      "metadata": {
        "id": "DEISeC-SCweW"
      }
    },
    {
      "cell_type": "markdown",
      "source": [
        "##### 4.1.1.1 ordinal transformation"
      ],
      "metadata": {
        "id": "aqBJYY1VCweW"
      }
    },
    {
      "cell_type": "code",
      "source": [
        "transformation = {\n",
        "    \"First\":3,\n",
        "    \"Second\":2,\n",
        "    \"Third\":1,\n",
        "    \"Fourth & Above\":0\n",
        "}"
      ],
      "metadata": {
        "execution": {
          "iopub.status.busy": "2022-09-11T11:40:28.767444Z",
          "iopub.execute_input": "2022-09-11T11:40:28.767769Z",
          "iopub.status.idle": "2022-09-11T11:40:28.77459Z",
          "shell.execute_reply.started": "2022-09-11T11:40:28.767739Z",
          "shell.execute_reply": "2022-09-11T11:40:28.772787Z"
        },
        "trusted": true,
        "id": "QapD33PlCweW"
      },
      "execution_count": 114,
      "outputs": []
    },
    {
      "cell_type": "code",
      "source": [
        "df['Owner_Type'] = df['Owner_Type'].map(transformation)"
      ],
      "metadata": {
        "execution": {
          "iopub.status.busy": "2022-09-11T11:40:28.776317Z",
          "iopub.execute_input": "2022-09-11T11:40:28.77689Z",
          "iopub.status.idle": "2022-09-11T11:40:28.788169Z",
          "shell.execute_reply.started": "2022-09-11T11:40:28.776853Z",
          "shell.execute_reply": "2022-09-11T11:40:28.786845Z"
        },
        "trusted": true,
        "id": "8PQpi6QGCweW"
      },
      "execution_count": 115,
      "outputs": []
    },
    {
      "cell_type": "markdown",
      "source": [
        "> The best case of owner type is (First), Of course the worst is Fourth & Above"
      ],
      "metadata": {
        "id": "Z1aqiHShCweX"
      }
    },
    {
      "cell_type": "markdown",
      "source": [
        "##### 4.1.1.2 Nominal transformation\n"
      ],
      "metadata": {
        "id": "SSqrYca8CweX"
      }
    },
    {
      "cell_type": "code",
      "source": [
        "Nominal_data = ['Name','Location','Fuel_Type','Transmission','Brand']\n",
        "binaryencoder = ce.BinaryEncoder(cols=Nominal_data)\n",
        "df = binaryencoder.fit_transform(df)"
      ],
      "metadata": {
        "execution": {
          "iopub.status.busy": "2022-09-11T11:40:28.790102Z",
          "iopub.execute_input": "2022-09-11T11:40:28.79085Z",
          "iopub.status.idle": "2022-09-11T11:40:28.978778Z",
          "shell.execute_reply.started": "2022-09-11T11:40:28.790811Z",
          "shell.execute_reply": "2022-09-11T11:40:28.977865Z"
        },
        "trusted": true,
        "id": "bx3rCLDsCweX"
      },
      "execution_count": 116,
      "outputs": []
    },
    {
      "cell_type": "code",
      "source": [
        "Numerical_data = ['Year','Kilometers_Driven','Mileage','Engine','Power','Seats','Price']"
      ],
      "metadata": {
        "execution": {
          "iopub.status.busy": "2022-09-11T11:40:28.980281Z",
          "iopub.execute_input": "2022-09-11T11:40:28.980874Z",
          "iopub.status.idle": "2022-09-11T11:40:28.986735Z",
          "shell.execute_reply.started": "2022-09-11T11:40:28.98084Z",
          "shell.execute_reply": "2022-09-11T11:40:28.98527Z"
        },
        "trusted": true,
        "id": "2na81n5vCweX"
      },
      "execution_count": 117,
      "outputs": []
    },
    {
      "cell_type": "markdown",
      "source": [
        "#### 4.2.1 Numerical transformation "
      ],
      "metadata": {
        "id": "9vmzlkOZCweX"
      }
    },
    {
      "cell_type": "code",
      "source": [
        "# power = PowerTransformer()\n",
        "new_df = pd.DataFrame(PowerTransformer().fit_transform(df), columns=df.columns, index=df.index)"
      ],
      "metadata": {
        "execution": {
          "iopub.status.busy": "2022-09-11T11:40:28.988674Z",
          "iopub.execute_input": "2022-09-11T11:40:28.989027Z",
          "iopub.status.idle": "2022-09-11T11:40:29.29814Z",
          "shell.execute_reply.started": "2022-09-11T11:40:28.988996Z",
          "shell.execute_reply": "2022-09-11T11:40:29.296701Z"
        },
        "trusted": true,
        "id": "NA-aY2hGCweX"
      },
      "execution_count": 118,
      "outputs": []
    },
    {
      "cell_type": "markdown",
      "source": [
        "### 4.1 Data splitting "
      ],
      "metadata": {
        "id": "1R6fwH0zCweX"
      }
    },
    {
      "cell_type": "code",
      "source": [
        "# define dataset\n",
        "X, y = new_df.drop(\"Price\",axis=1) , new_df[\"Price\"] \n",
        "\n",
        "# split into train and test sets\n",
        "X_train, X_test, y_train, y_test = train_test_split(X, y, test_size=0.3, random_state=42)"
      ],
      "metadata": {
        "execution": {
          "iopub.status.busy": "2022-09-11T11:40:29.300085Z",
          "iopub.execute_input": "2022-09-11T11:40:29.300625Z",
          "iopub.status.idle": "2022-09-11T11:40:29.314468Z",
          "shell.execute_reply.started": "2022-09-11T11:40:29.300575Z",
          "shell.execute_reply": "2022-09-11T11:40:29.312434Z"
        },
        "trusted": true,
        "id": "fffFI1O0CweY"
      },
      "execution_count": 119,
      "outputs": []
    },
    {
      "cell_type": "markdown",
      "source": [
        "# 5.0 Modeling "
      ],
      "metadata": {
        "id": "xhYuBWBuCweY"
      }
    },
    {
      "cell_type": "markdown",
      "source": [
        "### 5.1 Linear regression (OLS method)"
      ],
      "metadata": {
        "id": "yD5rAdCfCweZ"
      }
    },
    {
      "cell_type": "code",
      "source": [
        "reg = LinearRegression().fit(X_train,(y_train))\n",
        "print(\"R-Squered Trian\",round((reg.score(X_train,  (y_train))*100),2),'%')\n",
        "print(\"R-Squered Test\",round((reg.score(X_test,  (y_test))*100),2),'%')\n",
        "y_pred = reg.predict(X_test)\n",
        "print(f\"RMSE: {mean_squared_error(y_pred,(y_test))}\")"
      ],
      "metadata": {
        "execution": {
          "iopub.status.busy": "2022-09-11T11:40:29.316584Z",
          "iopub.execute_input": "2022-09-11T11:40:29.317165Z",
          "iopub.status.idle": "2022-09-11T11:40:29.405061Z",
          "shell.execute_reply.started": "2022-09-11T11:40:29.317113Z",
          "shell.execute_reply": "2022-09-11T11:40:29.403878Z"
        },
        "trusted": true,
        "colab": {
          "base_uri": "https://localhost:8080/"
        },
        "id": "PExp2E3mCweZ",
        "outputId": "b1a7f54d-3b22-41be-e2f1-5aa24252deea"
      },
      "execution_count": 120,
      "outputs": [
        {
          "output_type": "stream",
          "name": "stdout",
          "text": [
            "R-Squered Trian 87.81 %\n",
            "R-Squered Test 88.4 %\n",
            "RMSE: 0.11028248874777868\n"
          ]
        }
      ]
    },
    {
      "cell_type": "markdown",
      "source": [
        "### 5.3 Linear regression (Lasso method)"
      ],
      "metadata": {
        "id": "jpNXME2dCweZ"
      }
    },
    {
      "cell_type": "code",
      "source": [
        "from sklearn.preprocessing import PolynomialFeatures\n",
        "poly_reg = PolynomialFeatures(degree = 2)\n",
        "poly_reg.fit(X_train)"
      ],
      "metadata": {
        "execution": {
          "iopub.status.busy": "2022-09-11T11:40:29.406878Z",
          "iopub.execute_input": "2022-09-11T11:40:29.40875Z",
          "iopub.status.idle": "2022-09-11T11:40:29.437192Z",
          "shell.execute_reply.started": "2022-09-11T11:40:29.408701Z",
          "shell.execute_reply": "2022-09-11T11:40:29.434962Z"
        },
        "trusted": true,
        "colab": {
          "base_uri": "https://localhost:8080/"
        },
        "id": "mbpvOIxiCweZ",
        "outputId": "f86b5ea7-0e1e-434e-eae1-dad8965aa662"
      },
      "execution_count": 121,
      "outputs": [
        {
          "output_type": "execute_result",
          "data": {
            "text/plain": [
              "PolynomialFeatures()"
            ]
          },
          "metadata": {},
          "execution_count": 121
        }
      ]
    },
    {
      "cell_type": "code",
      "source": [
        "X_train = poly_reg.transform(X_train)\n",
        "X_test = poly_reg.transform(X_test)"
      ],
      "metadata": {
        "execution": {
          "iopub.status.busy": "2022-09-11T11:40:29.440546Z",
          "iopub.execute_input": "2022-09-11T11:40:29.442866Z",
          "iopub.status.idle": "2022-09-11T11:40:29.5231Z",
          "shell.execute_reply.started": "2022-09-11T11:40:29.442792Z",
          "shell.execute_reply": "2022-09-11T11:40:29.522077Z"
        },
        "trusted": true,
        "id": "LNRzePtXCweZ"
      },
      "execution_count": 122,
      "outputs": []
    },
    {
      "cell_type": "code",
      "source": [
        "reg = LassoCV().fit(X_train,(y_train))\n",
        "print(\"R-Squered Trian\",round((reg.score(X_train,  (y_train))*100),2),'%')\n",
        "print(\"R-Squered Test\",round((reg.score(X_test,  (y_test))*100),2),'%')\n",
        "y_pred = reg.predict(X_test)\n",
        "print(f\"RMSE: {mean_squared_error(y_pred,(y_test))}\")"
      ],
      "metadata": {
        "execution": {
          "iopub.status.busy": "2022-09-11T11:40:29.524701Z",
          "iopub.execute_input": "2022-09-11T11:40:29.52531Z",
          "iopub.status.idle": "2022-09-11T11:40:35.189631Z",
          "shell.execute_reply.started": "2022-09-11T11:40:29.52526Z",
          "shell.execute_reply": "2022-09-11T11:40:35.187955Z"
        },
        "trusted": true,
        "colab": {
          "base_uri": "https://localhost:8080/"
        },
        "id": "oMY99GHjCweZ",
        "outputId": "17b3e14e-6115-402b-83d2-bd79589aeaa9"
      },
      "execution_count": 123,
      "outputs": [
        {
          "output_type": "stream",
          "name": "stdout",
          "text": [
            "R-Squered Trian 94.96 %\n",
            "R-Squered Test 94.43 %\n",
            "RMSE: 0.05299341980334996\n"
          ]
        }
      ]
    },
    {
      "cell_type": "markdown",
      "source": [
        "### 5.4 Linear regression (Ridge method)"
      ],
      "metadata": {
        "id": "S3acNWpkCwea"
      }
    },
    {
      "cell_type": "code",
      "source": [
        "reg = RidgeCV().fit(X_train,(y_train))\n",
        "print(\"R-Squered Trian\",round((reg.score(X_train,  (y_train))*100),2),'%')\n",
        "print(\"R-Squered Test\",round((reg.score(X_test,  (y_test))*100),2),'%')\n",
        "y_pred = reg.predict(X_test)\n",
        "print(f\"RMSE: {mean_squared_error(y_pred,(y_test))}\")"
      ],
      "metadata": {
        "execution": {
          "iopub.status.busy": "2022-09-11T11:40:35.192219Z",
          "iopub.execute_input": "2022-09-11T11:40:35.194178Z",
          "iopub.status.idle": "2022-09-11T11:40:35.853952Z",
          "shell.execute_reply.started": "2022-09-11T11:40:35.194125Z",
          "shell.execute_reply": "2022-09-11T11:40:35.852194Z"
        },
        "trusted": true,
        "colab": {
          "base_uri": "https://localhost:8080/"
        },
        "id": "0BY7XVZCCwea",
        "outputId": "aa22a461-ae28-4a58-c39f-7cdcf9f9869c"
      },
      "execution_count": 124,
      "outputs": [
        {
          "output_type": "stream",
          "name": "stdout",
          "text": [
            "R-Squered Trian 95.31 %\n",
            "R-Squered Test 94.16 %\n",
            "RMSE: 0.05551218083438009\n"
          ]
        }
      ]
    },
    {
      "cell_type": "markdown",
      "source": [
        "### 5.4 Linear regression (ElasticNetCV method)"
      ],
      "metadata": {
        "id": "XlAgqKTyCwea"
      }
    },
    {
      "cell_type": "code",
      "source": [
        "reg = ElasticNetCV().fit(X_train,(y_train))\n",
        "print(\"R-Squered Trian\",round((reg.score(X_train,  (y_train))*100),2),'%')\n",
        "print(\"R-Squered Test\",round((reg.score(X_test,  (y_test))*100),2),'%')\n",
        "y_pred = reg.predict(X_test)\n",
        "print(f\"RMSE: {mean_squared_error(y_pred,(y_test))}\")"
      ],
      "metadata": {
        "execution": {
          "iopub.status.busy": "2022-09-11T11:40:35.857009Z",
          "iopub.execute_input": "2022-09-11T11:40:35.858365Z",
          "iopub.status.idle": "2022-09-11T11:40:40.875158Z",
          "shell.execute_reply.started": "2022-09-11T11:40:35.858274Z",
          "shell.execute_reply": "2022-09-11T11:40:40.873604Z"
        },
        "trusted": true,
        "colab": {
          "base_uri": "https://localhost:8080/"
        },
        "id": "_Pa73yuTCwea",
        "outputId": "2980be86-a1b7-4ff5-d3d9-66cb655ec2ad"
      },
      "execution_count": 125,
      "outputs": [
        {
          "output_type": "stream",
          "name": "stdout",
          "text": [
            "R-Squered Trian 94.98 %\n",
            "R-Squered Test 94.43 %\n",
            "RMSE: 0.05295312143740461\n"
          ]
        }
      ]
    },
    {
      "cell_type": "markdown",
      "source": [
        "> The best reqularization method That fit data well __ElasticNet__"
      ],
      "metadata": {
        "id": "UNAZ0d_OCwea"
      }
    }
  ]
}